{
 "cells": [
  {
   "cell_type": "markdown",
   "id": "07c9a2c6",
   "metadata": {},
   "source": [
    "# Introdução\n",
    "Este projeto tem como objetivo descobrir se há alguma relação entre o preço de um produto e sua avaliação. Além da avaliação serão usadas algumas features para tentar"
   ]
  },
  {
   "cell_type": "markdown",
   "id": "e71839b6",
   "metadata": {},
   "source": [
    "# 1. Lendo bibliotecas"
   ]
  },
  {
   "cell_type": "code",
   "execution_count": 1,
   "id": "847a994d",
   "metadata": {},
   "outputs": [],
   "source": [
    "import numpy as np\n",
    "import pandas as pd\n",
    "import os\n",
    "\n",
    "# Regressão Linear\n",
    "from sklearn import datasets, linear_model\n",
    "import statsmodels.api as sm\n",
    "from sklearn.model_selection import train_test_split\n",
    "from sklearn.linear_model import LogisticRegression\n",
    "from sklearn.linear_model import LinearRegression\n",
    "\n",
    "\n",
    "import seaborn as sns\n",
    "%matplotlib inline\n",
    "import seaborn as sns\n",
    "from sklearn import metrics\n",
    "\n",
    "\n",
    "# Plots\n",
    "import matplotlib.pyplot as plt\n",
    "from mpl_toolkits.mplot3d import Axes3D\n",
    "from IPython.display import display"
   ]
  },
  {
   "cell_type": "markdown",
   "id": "784b507f",
   "metadata": {},
   "source": [
    "# 2. Ler o DataSet"
   ]
  },
  {
   "cell_type": "code",
   "execution_count": 2,
   "id": "44d47402",
   "metadata": {},
   "outputs": [],
   "source": [
    "filename = 'dataset.xlsx'\n",
    "if not filename in os.listdir():\n",
    "    print(f'Não encontrei o arquivo {filename}')"
   ]
  },
  {
   "cell_type": "code",
   "execution_count": 3,
   "id": "dafd742d",
   "metadata": {},
   "outputs": [
    {
     "name": "stdout",
     "output_type": "stream",
     "text": [
      "Temos as colunas Index(['price (£)', 'number_of_reviews', 'rating', 'category'], dtype='object')\n"
     ]
    }
   ],
   "source": [
    "dados = pd.read_excel(filename)\n",
    "print(f\"Temos as colunas {dados.columns}\")"
   ]
  },
  {
   "cell_type": "markdown",
   "id": "085aa7bb",
   "metadata": {},
   "source": [
    "# 3. Tratamento da coluna 'Category'\n",
    "A coluna category na prática é uma hierarquia de categorias que podem se misturar. Ex. A subcategoria celulares pode estar tanto dentro de comunicação quanto de tecnologia. Nesta etapa vamos separar a categoria em categoria, subcategoria e subsubcategoria."
   ]
  },
  {
   "cell_type": "code",
   "execution_count": 4,
   "id": "98311a09",
   "metadata": {},
   "outputs": [
    {
     "data": {
      "text/html": [
       "<div>\n",
       "<style scoped>\n",
       "    .dataframe tbody tr th:only-of-type {\n",
       "        vertical-align: middle;\n",
       "    }\n",
       "\n",
       "    .dataframe tbody tr th {\n",
       "        vertical-align: top;\n",
       "    }\n",
       "\n",
       "    .dataframe thead th {\n",
       "        text-align: right;\n",
       "    }\n",
       "</style>\n",
       "<table border=\"1\" class=\"dataframe\">\n",
       "  <thead>\n",
       "    <tr style=\"text-align: right;\">\n",
       "      <th></th>\n",
       "      <th>price (£)</th>\n",
       "      <th>number_of_reviews</th>\n",
       "      <th>rating</th>\n",
       "      <th>category</th>\n",
       "      <th>parentcategory</th>\n",
       "      <th>subcategory</th>\n",
       "      <th>subsubcategory</th>\n",
       "    </tr>\n",
       "  </thead>\n",
       "  <tbody>\n",
       "    <tr>\n",
       "      <th>0</th>\n",
       "      <td>3.42</td>\n",
       "      <td>15</td>\n",
       "      <td>4.9</td>\n",
       "      <td>Hobbies &gt; Model Trains &amp; Railway Sets &gt; Rail V...</td>\n",
       "      <td>Hobbies</td>\n",
       "      <td>Model Trains &amp; Railway Sets</td>\n",
       "      <td>Rail Vehicles</td>\n",
       "    </tr>\n",
       "    <tr>\n",
       "      <th>1</th>\n",
       "      <td>16.99</td>\n",
       "      <td>2</td>\n",
       "      <td>4.5</td>\n",
       "      <td>Hobbies &gt; Model Trains &amp; Railway Sets &gt; Rail V...</td>\n",
       "      <td>Hobbies</td>\n",
       "      <td>Model Trains &amp; Railway Sets</td>\n",
       "      <td>Rail Vehicles</td>\n",
       "    </tr>\n",
       "    <tr>\n",
       "      <th>2</th>\n",
       "      <td>9.99</td>\n",
       "      <td>17</td>\n",
       "      <td>3.9</td>\n",
       "      <td>Hobbies &gt; Model Trains &amp; Railway Sets &gt; Rail V...</td>\n",
       "      <td>Hobbies</td>\n",
       "      <td>Model Trains &amp; Railway Sets</td>\n",
       "      <td>Rail Vehicles</td>\n",
       "    </tr>\n",
       "    <tr>\n",
       "      <th>3</th>\n",
       "      <td>39.99</td>\n",
       "      <td>1</td>\n",
       "      <td>5.0</td>\n",
       "      <td>Hobbies &gt; Model Trains &amp; Railway Sets &gt; Rail V...</td>\n",
       "      <td>Hobbies</td>\n",
       "      <td>Model Trains &amp; Railway Sets</td>\n",
       "      <td>Rail Vehicles</td>\n",
       "    </tr>\n",
       "    <tr>\n",
       "      <th>4</th>\n",
       "      <td>32.19</td>\n",
       "      <td>3</td>\n",
       "      <td>4.7</td>\n",
       "      <td>Hobbies &gt; Model Trains &amp; Railway Sets &gt; Rail V...</td>\n",
       "      <td>Hobbies</td>\n",
       "      <td>Model Trains &amp; Railway Sets</td>\n",
       "      <td>Rail Vehicles</td>\n",
       "    </tr>\n",
       "  </tbody>\n",
       "</table>\n",
       "</div>"
      ],
      "text/plain": [
       "   price (£)  number_of_reviews  rating  \\\n",
       "0       3.42                 15     4.9   \n",
       "1      16.99                  2     4.5   \n",
       "2       9.99                 17     3.9   \n",
       "3      39.99                  1     5.0   \n",
       "4      32.19                  3     4.7   \n",
       "\n",
       "                                            category parentcategory  \\\n",
       "0  Hobbies > Model Trains & Railway Sets > Rail V...        Hobbies   \n",
       "1  Hobbies > Model Trains & Railway Sets > Rail V...        Hobbies   \n",
       "2  Hobbies > Model Trains & Railway Sets > Rail V...        Hobbies   \n",
       "3  Hobbies > Model Trains & Railway Sets > Rail V...        Hobbies   \n",
       "4  Hobbies > Model Trains & Railway Sets > Rail V...        Hobbies   \n",
       "\n",
       "                   subcategory subsubcategory  \n",
       "0  Model Trains & Railway Sets  Rail Vehicles  \n",
       "1  Model Trains & Railway Sets  Rail Vehicles  \n",
       "2  Model Trains & Railway Sets  Rail Vehicles  \n",
       "3  Model Trains & Railway Sets  Rail Vehicles  \n",
       "4  Model Trains & Railway Sets  Rail Vehicles  "
      ]
     },
     "execution_count": 4,
     "metadata": {},
     "output_type": "execute_result"
    }
   ],
   "source": [
    "# dados['parentcategory', 'subcategory', 'subsubcategory'] = dados['category'].str.split(' > ')\n",
    "dados['parentcategory'] = dados['category'].map(lambda category: category.split(' > ')[0])\n",
    "dados['subcategory'] = dados['category'].map(lambda category: category.split(' > ')[1])\n",
    "dados['subsubcategory'] = dados['category'].map(lambda category: category.split(' > ')[2] if 2 < len(category.split(' > ')) else \"Outros\")\n",
    "\n",
    "dados.head()"
   ]
  },
  {
   "cell_type": "markdown",
   "id": "ad96d59c",
   "metadata": {},
   "source": [
    "**Apos separar as categorias fizemos um Valeu counts de cada uma para ver quantos valores à em cada categoria**"
   ]
  },
  {
   "cell_type": "markdown",
   "id": "8710a32a",
   "metadata": {},
   "source": [
    "**Valeu counts ParentCategory**"
   ]
  },
  {
   "cell_type": "code",
   "execution_count": 5,
   "id": "530fcf25",
   "metadata": {},
   "outputs": [
    {
     "data": {
      "text/plain": [
       "Hobbies                             1198\n",
       "Die-Cast & Toy Vehicles             1072\n",
       "Figures & Playsets                   890\n",
       "Games                                795\n",
       "Characters & Brands                  747\n",
       "Arts & Crafts                        741\n",
       "Party Supplies                       672\n",
       "Fancy Dress                          526\n",
       "Dolls & Accessories                  337\n",
       "Sports Toys & Outdoor                335\n",
       "Puppets & Puppet Theatres            246\n",
       "Jigsaws & Puzzles                    230\n",
       "Baby & Toddler Toys                   77\n",
       "Pretend Play                          39\n",
       "Musical Toy Instruments               15\n",
       "Novelty & Special Use                 10\n",
       "Pens, Pencils & Writing Supplies       7\n",
       "Office Supplies                        6\n",
       "Home Accessories                       5\n",
       "Bags                                   4\n",
       "Cooking & Dining                       4\n",
       "Worlds Apart                           3\n",
       "Electronic Toys                        3\n",
       "Educational Toys                       3\n",
       "Gardening                              3\n",
       "Women                                  2\n",
       "Dogs                                   2\n",
       "Medication & Remedies                  2\n",
       "Indoor Lighting                        1\n",
       "Jams, Honey & Spreads                  1\n",
       "Sex & Sensuality                       1\n",
       "Men                                    1\n",
       "Sweets, Chocolate & Gum                1\n",
       "Storage, Cleaning & Ring Sizers        1\n",
       "Supporters' Gear                       1\n",
       "Laundry, Storage & Organisation        1\n",
       "Camping & Hiking                       1\n",
       "Handbags & Shoulder Bags               1\n",
       "Bedding & Linens                       1\n",
       "Novelty Jewellery                      1\n",
       "Name: parentcategory, dtype: int64"
      ]
     },
     "execution_count": 5,
     "metadata": {},
     "output_type": "execute_result"
    }
   ],
   "source": [
    "dados['parentcategory'].value_counts()"
   ]
  },
  {
   "cell_type": "markdown",
   "id": "e02b6bd4",
   "metadata": {},
   "source": [
    "**Valeu counts SubCategory**"
   ]
  },
  {
   "cell_type": "code",
   "execution_count": 6,
   "id": "b0ba380b",
   "metadata": {},
   "outputs": [
    {
     "data": {
      "text/plain": [
       "Toy Vehicles & Accessories     966\n",
       "Accessories                    530\n",
       "Children's Craft Kits          390\n",
       "Science Fiction & Fantasy      359\n",
       "Model Trains & Railway Sets    328\n",
       "                              ... \n",
       "Marvin's Magic                   1\n",
       "Winnie-the-Pooh                  1\n",
       "Drawing & Painting Supplies      1\n",
       "Pencils                          1\n",
       "Drinking Games                   1\n",
       "Name: subcategory, Length: 138, dtype: int64"
      ]
     },
     "execution_count": 6,
     "metadata": {},
     "output_type": "execute_result"
    }
   ],
   "source": [
    "dados['subcategory'].value_counts()"
   ]
  },
  {
   "cell_type": "markdown",
   "id": "4f90f10d",
   "metadata": {},
   "source": [
    "**Valeu counts SubsubCategory**"
   ]
  },
  {
   "cell_type": "code",
   "execution_count": 7,
   "id": "6a586707",
   "metadata": {},
   "outputs": [
    {
     "data": {
      "text/plain": [
       "Outros                         3275\n",
       "Scaled Models                   866\n",
       "Toys                            504\n",
       "Bead Art & Jewellery-Making     340\n",
       "Balloons                        284\n",
       "                               ... \n",
       "Thread                            1\n",
       "Poker Chip Cases & Trays          1\n",
       "Books                             1\n",
       "Paints                            1\n",
       "Fashion Dolls                     1\n",
       "Name: subsubcategory, Length: 104, dtype: int64"
      ]
     },
     "execution_count": 7,
     "metadata": {},
     "output_type": "execute_result"
    }
   ],
   "source": [
    "dados['subsubcategory'].value_counts()\n"
   ]
  },
  {
   "cell_type": "markdown",
   "id": "7a1d10f7",
   "metadata": {},
   "source": [
    "**Problema**: Temos muitas categorias com poucos dados. Para isso vamos trocá-las por \"outros\""
   ]
  },
  {
   "cell_type": "code",
   "execution_count": 8,
   "id": "c7501c06",
   "metadata": {},
   "outputs": [],
   "source": [
    "dados['new_parentcategory'] = dados['parentcategory'].map(lambda category: category if dados['parentcategory'].value_counts()[category] >= 300 else 'Outros')\n",
    "dados['new_subcategory'] = dados['subcategory'].map(lambda category: category if dados['subcategory'].value_counts()[category] >= 300 else 'Outros')\n",
    "dados['new_subsubcategory'] = dados['subsubcategory'].map(lambda category:  category if dados['subsubcategory'].value_counts()[category] >= 300 else 'Outros')"
   ]
  },
  {
   "cell_type": "markdown",
   "id": "6f26aa1e",
   "metadata": {},
   "source": [
    "**Valeu counts ParentCategory**"
   ]
  },
  {
   "cell_type": "code",
   "execution_count": 9,
   "id": "ce6798c3",
   "metadata": {},
   "outputs": [
    {
     "data": {
      "text/plain": [
       "Hobbies                    1198\n",
       "Die-Cast & Toy Vehicles    1072\n",
       "Figures & Playsets          890\n",
       "Games                       795\n",
       "Characters & Brands         747\n",
       "Arts & Crafts               741\n",
       "Outros                      673\n",
       "Party Supplies              672\n",
       "Fancy Dress                 526\n",
       "Dolls & Accessories         337\n",
       "Sports Toys & Outdoor       335\n",
       "Name: new_parentcategory, dtype: int64"
      ]
     },
     "execution_count": 9,
     "metadata": {},
     "output_type": "execute_result"
    }
   ],
   "source": [
    "dados['new_parentcategory'].value_counts()"
   ]
  },
  {
   "cell_type": "markdown",
   "id": "30aae70c",
   "metadata": {},
   "source": [
    "**Valeu counts SubCategory**"
   ]
  },
  {
   "cell_type": "code",
   "execution_count": 10,
   "id": "78dcc5b1",
   "metadata": {},
   "outputs": [
    {
     "data": {
      "text/plain": [
       "Outros                          4779\n",
       "Toy Vehicles & Accessories       966\n",
       "Accessories                      530\n",
       "Children's Craft Kits            390\n",
       "Science Fiction & Fantasy        359\n",
       "Model Trains & Railway Sets      328\n",
       "Banners, Stickers & Confetti     328\n",
       "Decorations                      306\n",
       "Name: new_subcategory, dtype: int64"
      ]
     },
     "execution_count": 10,
     "metadata": {},
     "output_type": "execute_result"
    }
   ],
   "source": [
    "dados['new_subcategory'].value_counts()"
   ]
  },
  {
   "cell_type": "markdown",
   "id": "18f135a8",
   "metadata": {},
   "source": [
    "**Valeu counts SubsubCategory**"
   ]
  },
  {
   "cell_type": "code",
   "execution_count": 11,
   "id": "cf234494",
   "metadata": {},
   "outputs": [
    {
     "data": {
      "text/plain": [
       "Outros                         6276\n",
       "Scaled Models                   866\n",
       "Toys                            504\n",
       "Bead Art & Jewellery-Making     340\n",
       "Name: new_subsubcategory, dtype: int64"
      ]
     },
     "execution_count": 11,
     "metadata": {},
     "output_type": "execute_result"
    }
   ],
   "source": [
    "dados['new_subsubcategory'].value_counts()"
   ]
  },
  {
   "cell_type": "markdown",
   "id": "7a6e7715",
   "metadata": {},
   "source": [
    "# 4. Análise Exploratória\n",
    "O primeiro passo após ter o DataSet carregado é olhar os dados e tentar descobrir possíveis correlações. Para isso vamos plotar alguns gráficos:"
   ]
  },
  {
   "cell_type": "markdown",
   "id": "8c7bdbd0",
   "metadata": {},
   "source": [
    "**Primeiramente buscamos a utilizar os dados da funcao Describe para assim plotar os graficos!**"
   ]
  },
  {
   "cell_type": "code",
   "execution_count": 12,
   "id": "7b8ee183",
   "metadata": {},
   "outputs": [
    {
     "name": "stdout",
     "output_type": "stream",
     "text": [
      "          price (£)  number_of_reviews       rating  \\\n",
      "count   7986.000000        7986.000000  7986.000000   \n",
      "unique          NaN                NaN          NaN   \n",
      "top             NaN                NaN          NaN   \n",
      "freq            NaN                NaN          NaN   \n",
      "mean      19.848063           9.371776     4.709154   \n",
      "std       39.049344          36.484311     0.372529   \n",
      "min        0.010000           1.000000     2.300000   \n",
      "25%        4.630000           1.000000     4.500000   \n",
      "50%       10.000000           2.000000     5.000000   \n",
      "75%       19.990000           6.000000     5.000000   \n",
      "max      995.110000        1399.000000     5.000000   \n",
      "\n",
      "                                                 category parentcategory  \\\n",
      "count                                                7986           7986   \n",
      "unique                                                235             40   \n",
      "top     Die-Cast & Toy Vehicles > Toy Vehicles & Acces...        Hobbies   \n",
      "freq                                                  784           1198   \n",
      "mean                                                  NaN            NaN   \n",
      "std                                                   NaN            NaN   \n",
      "min                                                   NaN            NaN   \n",
      "25%                                                   NaN            NaN   \n",
      "50%                                                   NaN            NaN   \n",
      "75%                                                   NaN            NaN   \n",
      "max                                                   NaN            NaN   \n",
      "\n",
      "                       subcategory subsubcategory new_parentcategory  \\\n",
      "count                         7986           7986               7986   \n",
      "unique                         138            104                 11   \n",
      "top     Toy Vehicles & Accessories         Outros            Hobbies   \n",
      "freq                           966           3275               1198   \n",
      "mean                           NaN            NaN                NaN   \n",
      "std                            NaN            NaN                NaN   \n",
      "min                            NaN            NaN                NaN   \n",
      "25%                            NaN            NaN                NaN   \n",
      "50%                            NaN            NaN                NaN   \n",
      "75%                            NaN            NaN                NaN   \n",
      "max                            NaN            NaN                NaN   \n",
      "\n",
      "       new_subcategory new_subsubcategory  \n",
      "count             7986               7986  \n",
      "unique               8                  4  \n",
      "top             Outros             Outros  \n",
      "freq              4779               6276  \n",
      "mean               NaN                NaN  \n",
      "std                NaN                NaN  \n",
      "min                NaN                NaN  \n",
      "25%                NaN                NaN  \n",
      "50%                NaN                NaN  \n",
      "75%                NaN                NaN  \n",
      "max                NaN                NaN  \n"
     ]
    }
   ],
   "source": [
    "print(dados.describe(include = 'all'))"
   ]
  },
  {
   "cell_type": "code",
   "execution_count": 13,
   "id": "7de5e1e0",
   "metadata": {},
   "outputs": [
    {
     "name": "stdout",
     "output_type": "stream",
     "text": [
      "TODOS GRAFICOS POSSIVEIS\n"
     ]
    },
    {
     "data": {
      "text/plain": [
       "<seaborn.axisgrid.PairGrid at 0x13e90868370>"
      ]
     },
     "execution_count": 13,
     "metadata": {},
     "output_type": "execute_result"
    },
    {
     "data": {
      "image/png": "[encoded data removed]",
      "text/plain": [
       "<Figure size 1080x1080 with 12 Axes>"
      ]
     },
     "metadata": {
      "needs_background": "light"
     },
     "output_type": "display_data"
    }
   ],
   "source": [
    "# Todos os gráficos possíveis\n",
    "print(\"TODOS GRAFICOS POSSIVEIS\")\n",
    "sns.pairplot(dados,height = 5)\n"
   ]
  },
  {
   "cell_type": "markdown",
   "id": "1aea5261",
   "metadata": {},
   "source": [
    "**Gráficos:** Esses gráficos representam nossa análise exploratória, abaixo refizemos os gráficos que consideramos os mais importantes"
   ]
  },
  {
   "cell_type": "code",
   "execution_count": 14,
   "id": "f3f8b0fe",
   "metadata": {},
   "outputs": [
    {
     "data": {
      "image/png": "[encoded data removed]",
      "text/plain": [
       "<Figure size 576x432 with 1 Axes>"
      ]
     },
     "metadata": {
      "needs_background": "light"
     },
     "output_type": "display_data"
    },
    {
     "data": {
      "image/png": "[encoded data removed]",
      "text/plain": [
       "<Figure size 576x432 with 1 Axes>"
      ]
     },
     "metadata": {
      "needs_background": "light"
     },
     "output_type": "display_data"
    },
    {
     "data": {
      "image/png": "[encoded data removed]",
      "text/plain": [
       "<Figure size 576x432 with 1 Axes>"
      ]
     },
     "metadata": {
      "needs_background": "light"
     },
     "output_type": "display_data"
    },
    {
     "data": {
      "image/png": "[encoded data removed]",
      "text/plain": [
       "<Figure size 576x432 with 1 Axes>"
      ]
     },
     "metadata": {
      "needs_background": "light"
     },
     "output_type": "display_data"
    }
   ],
   "source": [
    "\n",
    "plt.figure(figsize = (8,6))\n",
    "plt.scatter(dados.rating,dados[\"price (£)\"], c='red', alpha=0.4)\n",
    "plt.title('Rating X Preço')\n",
    "plt.xlabel('Rating')\n",
    "plt.ylabel('Preço em euros')\n",
    "plt.show()\n",
    "\n",
    "plt.figure(figsize = (8,6))\n",
    "plt.scatter(dados.number_of_reviews, dados.rating, c='red', alpha=0.4)\n",
    "plt.title('Quantidade de Reviews X Rating')\n",
    "plt.xlabel('Numero de Reviews')\n",
    "plt.ylabel('Rating')\n",
    "\n",
    "plt.show()\n",
    "\n",
    "plt.figure(figsize = (8,6))\n",
    "plt.scatter(dados.number_of_reviews, dados[\"price (£)\"], c='red', alpha=0.4)\n",
    "plt.title('Quantidade de Reviews X Preço')\n",
    "plt.xlabel('Numero de Reviews')\n",
    "plt.ylabel('Preço em Euros')\n",
    "\n",
    "plt.figure(figsize = (8,6))\n",
    "plt.hist(dados.rating, edgecolor = 'white', density = True, color = \"red\")\n",
    "plt.title('Avaliações')\n",
    "plt.xlabel('Nivel da avaliação')\n",
    "\n",
    "plt.show()\n",
    "\n",
    "\n"
   ]
  },
  {
   "cell_type": "markdown",
   "id": "5956aacb",
   "metadata": {},
   "source": [
    "## Observando os gráficos\n",
    "Para a análise dos produtos, nós vamos usar três principais características: preço, avaliação e número de avaliações; sendo review o target e as demais variáveis features.\n",
    "\n",
    "A partir dos gráficos acima formulamos a seguinte hipótese: **Quanto maior a avaliação, maior o preço e quanto maior número de reviews, menor o preço do produto**.\n",
    "Lógica por trás da decisão:\n",
    "1. Pessoas vão entrar para reclamar se o produto for ruim, mas não necessariamente vão elogiá-lo se for bom;\n",
    "2. Produtos com boas avaliações tendem a ter melhor qualidade, o que reflete em seu preço"
   ]
  },
  {
   "cell_type": "markdown",
   "id": "a8cf87e1",
   "metadata": {},
   "source": [
    "# Tentativa #1\n",
    "Neste passo vamos fazer uma regressão linear multivariada utilizando MMQ, levando em consideração a o preço em função da avaliação e número de reviews."
   ]
  },
  {
   "cell_type": "code",
   "execution_count": 15,
   "id": "f1bf7f74",
   "metadata": {},
   "outputs": [],
   "source": [
    "def regress(Y,X):\n",
    "    '''\n",
    "    Y: coluna do DataFrame utilizada como variável resposta (TARGET)\n",
    "    X: coluna(s) do DataFrame utilizadas como variável(is) explicativas (FEATURES)\n",
    "    '''\n",
    "    X_cp = sm.add_constant(X)\n",
    "    model = sm.OLS(Y,X_cp)\n",
    "    results = model.fit()\n",
    "    \n",
    "    return results"
   ]
  },
  {
   "cell_type": "code",
   "execution_count": 16,
   "id": "114987d8",
   "metadata": {},
   "outputs": [
    {
     "name": "stderr",
     "output_type": "stream",
     "text": [
      "C:\\ProgramData\\Anaconda3\\lib\\site-packages\\statsmodels\\tsa\\tsatools.py:142: FutureWarning: In a future version of pandas all arguments of concat except for the argument 'objs' will be keyword-only\n",
      "  x = pd.concat(x[::order], 1)\n"
     ]
    },
    {
     "data": {
      "text/html": [
       "<table class=\"simpletable\">\n",
       "<caption>OLS Regression Results</caption>\n",
       "<tr>\n",
       "  <th>Dep. Variable:</th>        <td>price (£)</td>    <th>  R-squared:         </th> <td>   0.002</td> \n",
       "</tr>\n",
       "<tr>\n",
       "  <th>Model:</th>                   <td>OLS</td>       <th>  Adj. R-squared:    </th> <td>   0.002</td> \n",
       "</tr>\n",
       "<tr>\n",
       "  <th>Method:</th>             <td>Least Squares</td>  <th>  F-statistic:       </th> <td>   9.974</td> \n",
       "</tr>\n",
       "<tr>\n",
       "  <th>Date:</th>             <td>Tue, 30 Nov 2021</td> <th>  Prob (F-statistic):</th> <td>4.72e-05</td> \n",
       "</tr>\n",
       "<tr>\n",
       "  <th>Time:</th>                 <td>11:24:00</td>     <th>  Log-Likelihood:    </th> <td> -40588.</td> \n",
       "</tr>\n",
       "<tr>\n",
       "  <th>No. Observations:</th>      <td>  7986</td>      <th>  AIC:               </th> <td>8.118e+04</td>\n",
       "</tr>\n",
       "<tr>\n",
       "  <th>Df Residuals:</th>          <td>  7983</td>      <th>  BIC:               </th> <td>8.120e+04</td>\n",
       "</tr>\n",
       "<tr>\n",
       "  <th>Df Model:</th>              <td>     2</td>      <th>                     </th>     <td> </td>    \n",
       "</tr>\n",
       "<tr>\n",
       "  <th>Covariance Type:</th>      <td>nonrobust</td>    <th>                     </th>     <td> </td>    \n",
       "</tr>\n",
       "</table>\n",
       "<table class=\"simpletable\">\n",
       "<tr>\n",
       "          <td></td>             <th>coef</th>     <th>std err</th>      <th>t</th>      <th>P>|t|</th>  <th>[0.025</th>    <th>0.975]</th>  \n",
       "</tr>\n",
       "<tr>\n",
       "  <th>const</th>             <td>    0.6675</td> <td>    5.583</td> <td>    0.120</td> <td> 0.905</td> <td>  -10.277</td> <td>   11.612</td>\n",
       "</tr>\n",
       "<tr>\n",
       "  <th>number_of_reviews</th> <td>   -0.0285</td> <td>    0.012</td> <td>   -2.365</td> <td> 0.018</td> <td>   -0.052</td> <td>   -0.005</td>\n",
       "</tr>\n",
       "<tr>\n",
       "  <th>rating</th>            <td>    4.1297</td> <td>    1.179</td> <td>    3.503</td> <td> 0.000</td> <td>    1.819</td> <td>    6.441</td>\n",
       "</tr>\n",
       "</table>\n",
       "<table class=\"simpletable\">\n",
       "<tr>\n",
       "  <th>Omnibus:</th>       <td>11485.500</td> <th>  Durbin-Watson:     </th>  <td>   1.793</td>  \n",
       "</tr>\n",
       "<tr>\n",
       "  <th>Prob(Omnibus):</th>  <td> 0.000</td>   <th>  Jarque-Bera (JB):  </th> <td>4758387.250</td>\n",
       "</tr>\n",
       "<tr>\n",
       "  <th>Skew:</th>           <td> 8.533</td>   <th>  Prob(JB):          </th>  <td>    0.00</td>  \n",
       "</tr>\n",
       "<tr>\n",
       "  <th>Kurtosis:</th>       <td>121.359</td>  <th>  Cond. No.          </th>  <td>    493.</td>  \n",
       "</tr>\n",
       "</table><br/><br/>Notes:<br/>[1] Standard Errors assume that the covariance matrix of the errors is correctly specified."
      ],
      "text/plain": [
       "<class 'statsmodels.iolib.summary.Summary'>\n",
       "\"\"\"\n",
       "                            OLS Regression Results                            \n",
       "==============================================================================\n",
       "Dep. Variable:              price (£)   R-squared:                       0.002\n",
       "Model:                            OLS   Adj. R-squared:                  0.002\n",
       "Method:                 Least Squares   F-statistic:                     9.974\n",
       "Date:                Tue, 30 Nov 2021   Prob (F-statistic):           4.72e-05\n",
       "Time:                        11:24:00   Log-Likelihood:                -40588.\n",
       "No. Observations:                7986   AIC:                         8.118e+04\n",
       "Df Residuals:                    7983   BIC:                         8.120e+04\n",
       "Df Model:                           2                                         \n",
       "Covariance Type:            nonrobust                                         \n",
       "=====================================================================================\n",
       "                        coef    std err          t      P>|t|      [0.025      0.975]\n",
       "-------------------------------------------------------------------------------------\n",
       "const                 0.6675      5.583      0.120      0.905     -10.277      11.612\n",
       "number_of_reviews    -0.0285      0.012     -2.365      0.018      -0.052      -0.005\n",
       "rating                4.1297      1.179      3.503      0.000       1.819       6.441\n",
       "==============================================================================\n",
       "Omnibus:                    11485.500   Durbin-Watson:                   1.793\n",
       "Prob(Omnibus):                  0.000   Jarque-Bera (JB):          4758387.250\n",
       "Skew:                           8.533   Prob(JB):                         0.00\n",
       "Kurtosis:                     121.359   Cond. No.                         493.\n",
       "==============================================================================\n",
       "\n",
       "Notes:\n",
       "[1] Standard Errors assume that the covariance matrix of the errors is correctly specified.\n",
       "\"\"\""
      ]
     },
     "execution_count": 16,
     "metadata": {},
     "output_type": "execute_result"
    }
   ],
   "source": [
    "# Target é o preço\n",
    "y = dados[['price (£)']]\n",
    "\n",
    "# Vamos usar o preço e número de reviews como features\n",
    "x = dados[['number_of_reviews', 'rating']]\n",
    "\n",
    "# Agora vamos fazer MMQ (OLS) com a função regress\n",
    "resultados = regress(y, x)\n",
    "resultados.summary()"
   ]
  },
  {
   "cell_type": "markdown",
   "id": "86109712",
   "metadata": {},
   "source": [
    "# Tentativa #2"
   ]
  },
  {
   "cell_type": "markdown",
   "id": "4bcbb492",
   "metadata": {},
   "source": [
    "**Na 2 tentativa iremos utilizar a bibilioteca 'statsmodels' para tentar obter a previsao de nossos dados!**"
   ]
  },
  {
   "cell_type": "code",
   "execution_count": 17,
   "id": "63ecf077",
   "metadata": {},
   "outputs": [
    {
     "name": "stderr",
     "output_type": "stream",
     "text": [
      "C:\\ProgramData\\Anaconda3\\lib\\site-packages\\statsmodels\\tsa\\tsatools.py:142: FutureWarning: In a future version of pandas all arguments of concat except for the argument 'objs' will be keyword-only\n",
      "  x = pd.concat(x[::order], 1)\n"
     ]
    },
    {
     "data": {
      "text/plain": [
       "0       20.475964\n",
       "1       19.194199\n",
       "2       16.289319\n",
       "3       21.287522\n",
       "4       19.991670\n",
       "          ...    \n",
       "7981    21.230581\n",
       "7982    17.157818\n",
       "7983    21.287522\n",
       "7984    21.287522\n",
       "7985    18.937964\n",
       "Length: 7986, dtype: float64"
      ]
     },
     "execution_count": 17,
     "metadata": {},
     "output_type": "execute_result"
    }
   ],
   "source": [
    "X_cp = sm.add_constant(x)\n",
    "resultados.predict(X_cp)\n"
   ]
  },
  {
   "cell_type": "markdown",
   "id": "1eaa5051",
   "metadata": {},
   "source": [
    "**Apos obtermos os dados iremos plotar os seguintes graficos: 'Previsão do preço X Rating' e 'Preço em Libras X Number of Reviews'**"
   ]
  },
  {
   "cell_type": "code",
   "execution_count": 18,
   "id": "eab2c7a3",
   "metadata": {},
   "outputs": [
    {
     "data": {
      "image/png": "[encoded data removed]",
      "text/plain": [
       "<Figure size 576x432 with 1 Axes>"
      ]
     },
     "metadata": {
      "needs_background": "light"
     },
     "output_type": "display_data"
    },
    {
     "data": {
      "image/png": "[encoded data removed]",
      "text/plain": [
       "<Figure size 576x432 with 1 Axes>"
      ]
     },
     "metadata": {
      "needs_background": "light"
     },
     "output_type": "display_data"
    }
   ],
   "source": [
    "plt.figure(figsize = (8,6))\n",
    "plt.scatter(dados.rating,resultados.predict(), c='blue', alpha=0.4)\n",
    "plt.title('Previsão do preço X Rating')\n",
    "plt.grid(True)\n",
    "plt.xlabel('Rating')\n",
    "plt.ylabel('Preço em Euros')\n",
    "\n",
    "plt.figure(figsize = (8,6))\n",
    "plt.grid(True)\n",
    "plt.scatter(dados.number_of_reviews,resultados.predict(), c='red', alpha=0.4)\n",
    "plt.xlabel('Number of Reviews')\n",
    "plt.ylabel('Preço em Libras')\n",
    "\n",
    "plt.show()\n",
    "\n",
    "# TODO: Achar precisão com sklearn.metrics"
   ]
  },
  {
   "cell_type": "markdown",
   "id": "dd3032ba",
   "metadata": {},
   "source": [
    "# Tentativa #3\n",
    "Queremos aumentar a exatidão do nosso modelo; para isso vamos tentar adicionar mais features para aumentar esse número. O problema é que o MMQ não funciona com variáveis categóricas, então vamos ter que usar dummies"
   ]
  },
  {
   "cell_type": "code",
   "execution_count": 19,
   "id": "be682cd7",
   "metadata": {},
   "outputs": [
    {
     "ename": "ValueError",
     "evalue": "Pandas data cast to numpy dtype of object. Check input data with np.asarray(data).",
     "output_type": "error",
     "traceback": [
      "\u001b[1;31m---------------------------------------------------------------------------\u001b[0m",
      "\u001b[1;31mValueError\u001b[0m                                Traceback (most recent call last)",
      "\u001b[1;32m~\\AppData\\Local\\Temp/ipykernel_27448/1121003994.py\u001b[0m in \u001b[0;36m<module>\u001b[1;34m\u001b[0m\n\u001b[0;32m      8\u001b[0m \u001b[1;33m\u001b[0m\u001b[0m\n\u001b[0;32m      9\u001b[0m \u001b[1;31m# Agora vamos fazer MMQ (OLS) com a função regress\u001b[0m\u001b[1;33m\u001b[0m\u001b[1;33m\u001b[0m\u001b[0m\n\u001b[1;32m---> 10\u001b[1;33m \u001b[0mresultados_2\u001b[0m \u001b[1;33m=\u001b[0m \u001b[0mregress\u001b[0m\u001b[1;33m(\u001b[0m\u001b[0my_2\u001b[0m\u001b[1;33m,\u001b[0m \u001b[0mx_2\u001b[0m\u001b[1;33m)\u001b[0m\u001b[1;33m\u001b[0m\u001b[1;33m\u001b[0m\u001b[0m\n\u001b[0m\u001b[0;32m     11\u001b[0m \u001b[0mresultados_2\u001b[0m\u001b[1;33m.\u001b[0m\u001b[0msummary\u001b[0m\u001b[1;33m(\u001b[0m\u001b[1;33m)\u001b[0m\u001b[1;33m\u001b[0m\u001b[1;33m\u001b[0m\u001b[0m\n",
      "\u001b[1;32m~\\AppData\\Local\\Temp/ipykernel_27448/1543507665.py\u001b[0m in \u001b[0;36mregress\u001b[1;34m(Y, X)\u001b[0m\n\u001b[0;32m      5\u001b[0m     '''\n\u001b[0;32m      6\u001b[0m     \u001b[0mX_cp\u001b[0m \u001b[1;33m=\u001b[0m \u001b[0msm\u001b[0m\u001b[1;33m.\u001b[0m\u001b[0madd_constant\u001b[0m\u001b[1;33m(\u001b[0m\u001b[0mX\u001b[0m\u001b[1;33m)\u001b[0m\u001b[1;33m\u001b[0m\u001b[1;33m\u001b[0m\u001b[0m\n\u001b[1;32m----> 7\u001b[1;33m     \u001b[0mmodel\u001b[0m \u001b[1;33m=\u001b[0m \u001b[0msm\u001b[0m\u001b[1;33m.\u001b[0m\u001b[0mOLS\u001b[0m\u001b[1;33m(\u001b[0m\u001b[0mY\u001b[0m\u001b[1;33m,\u001b[0m\u001b[0mX_cp\u001b[0m\u001b[1;33m)\u001b[0m\u001b[1;33m\u001b[0m\u001b[1;33m\u001b[0m\u001b[0m\n\u001b[0m\u001b[0;32m      8\u001b[0m     \u001b[0mresults\u001b[0m \u001b[1;33m=\u001b[0m \u001b[0mmodel\u001b[0m\u001b[1;33m.\u001b[0m\u001b[0mfit\u001b[0m\u001b[1;33m(\u001b[0m\u001b[1;33m)\u001b[0m\u001b[1;33m\u001b[0m\u001b[1;33m\u001b[0m\u001b[0m\n\u001b[0;32m      9\u001b[0m \u001b[1;33m\u001b[0m\u001b[0m\n",
      "\u001b[1;32mC:\\ProgramData\\Anaconda3\\lib\\site-packages\\statsmodels\\regression\\linear_model.py\u001b[0m in \u001b[0;36m__init__\u001b[1;34m(self, endog, exog, missing, hasconst, **kwargs)\u001b[0m\n\u001b[0;32m    870\u001b[0m     def __init__(self, endog, exog=None, missing='none', hasconst=None,\n\u001b[0;32m    871\u001b[0m                  **kwargs):\n\u001b[1;32m--> 872\u001b[1;33m         super(OLS, self).__init__(endog, exog, missing=missing,\n\u001b[0m\u001b[0;32m    873\u001b[0m                                   hasconst=hasconst, **kwargs)\n\u001b[0;32m    874\u001b[0m         \u001b[1;32mif\u001b[0m \u001b[1;34m\"weights\"\u001b[0m \u001b[1;32min\u001b[0m \u001b[0mself\u001b[0m\u001b[1;33m.\u001b[0m\u001b[0m_init_keys\u001b[0m\u001b[1;33m:\u001b[0m\u001b[1;33m\u001b[0m\u001b[1;33m\u001b[0m\u001b[0m\n",
      "\u001b[1;32mC:\\ProgramData\\Anaconda3\\lib\\site-packages\\statsmodels\\regression\\linear_model.py\u001b[0m in \u001b[0;36m__init__\u001b[1;34m(self, endog, exog, weights, missing, hasconst, **kwargs)\u001b[0m\n\u001b[0;32m    701\u001b[0m         \u001b[1;32melse\u001b[0m\u001b[1;33m:\u001b[0m\u001b[1;33m\u001b[0m\u001b[1;33m\u001b[0m\u001b[0m\n\u001b[0;32m    702\u001b[0m             \u001b[0mweights\u001b[0m \u001b[1;33m=\u001b[0m \u001b[0mweights\u001b[0m\u001b[1;33m.\u001b[0m\u001b[0msqueeze\u001b[0m\u001b[1;33m(\u001b[0m\u001b[1;33m)\u001b[0m\u001b[1;33m\u001b[0m\u001b[1;33m\u001b[0m\u001b[0m\n\u001b[1;32m--> 703\u001b[1;33m         super(WLS, self).__init__(endog, exog, missing=missing,\n\u001b[0m\u001b[0;32m    704\u001b[0m                                   weights=weights, hasconst=hasconst, **kwargs)\n\u001b[0;32m    705\u001b[0m         \u001b[0mnobs\u001b[0m \u001b[1;33m=\u001b[0m \u001b[0mself\u001b[0m\u001b[1;33m.\u001b[0m\u001b[0mexog\u001b[0m\u001b[1;33m.\u001b[0m\u001b[0mshape\u001b[0m\u001b[1;33m[\u001b[0m\u001b[1;36m0\u001b[0m\u001b[1;33m]\u001b[0m\u001b[1;33m\u001b[0m\u001b[1;33m\u001b[0m\u001b[0m\n",
      "\u001b[1;32mC:\\ProgramData\\Anaconda3\\lib\\site-packages\\statsmodels\\regression\\linear_model.py\u001b[0m in \u001b[0;36m__init__\u001b[1;34m(self, endog, exog, **kwargs)\u001b[0m\n\u001b[0;32m    188\u001b[0m     \"\"\"\n\u001b[0;32m    189\u001b[0m     \u001b[1;32mdef\u001b[0m \u001b[0m__init__\u001b[0m\u001b[1;33m(\u001b[0m\u001b[0mself\u001b[0m\u001b[1;33m,\u001b[0m \u001b[0mendog\u001b[0m\u001b[1;33m,\u001b[0m \u001b[0mexog\u001b[0m\u001b[1;33m,\u001b[0m \u001b[1;33m**\u001b[0m\u001b[0mkwargs\u001b[0m\u001b[1;33m)\u001b[0m\u001b[1;33m:\u001b[0m\u001b[1;33m\u001b[0m\u001b[1;33m\u001b[0m\u001b[0m\n\u001b[1;32m--> 190\u001b[1;33m         \u001b[0msuper\u001b[0m\u001b[1;33m(\u001b[0m\u001b[0mRegressionModel\u001b[0m\u001b[1;33m,\u001b[0m \u001b[0mself\u001b[0m\u001b[1;33m)\u001b[0m\u001b[1;33m.\u001b[0m\u001b[0m__init__\u001b[0m\u001b[1;33m(\u001b[0m\u001b[0mendog\u001b[0m\u001b[1;33m,\u001b[0m \u001b[0mexog\u001b[0m\u001b[1;33m,\u001b[0m \u001b[1;33m**\u001b[0m\u001b[0mkwargs\u001b[0m\u001b[1;33m)\u001b[0m\u001b[1;33m\u001b[0m\u001b[1;33m\u001b[0m\u001b[0m\n\u001b[0m\u001b[0;32m    191\u001b[0m         \u001b[0mself\u001b[0m\u001b[1;33m.\u001b[0m\u001b[0m_data_attr\u001b[0m\u001b[1;33m.\u001b[0m\u001b[0mextend\u001b[0m\u001b[1;33m(\u001b[0m\u001b[1;33m[\u001b[0m\u001b[1;34m'pinv_wexog'\u001b[0m\u001b[1;33m,\u001b[0m \u001b[1;34m'weights'\u001b[0m\u001b[1;33m]\u001b[0m\u001b[1;33m)\u001b[0m\u001b[1;33m\u001b[0m\u001b[1;33m\u001b[0m\u001b[0m\n\u001b[0;32m    192\u001b[0m \u001b[1;33m\u001b[0m\u001b[0m\n",
      "\u001b[1;32mC:\\ProgramData\\Anaconda3\\lib\\site-packages\\statsmodels\\base\\model.py\u001b[0m in \u001b[0;36m__init__\u001b[1;34m(self, endog, exog, **kwargs)\u001b[0m\n\u001b[0;32m    235\u001b[0m \u001b[1;33m\u001b[0m\u001b[0m\n\u001b[0;32m    236\u001b[0m     \u001b[1;32mdef\u001b[0m \u001b[0m__init__\u001b[0m\u001b[1;33m(\u001b[0m\u001b[0mself\u001b[0m\u001b[1;33m,\u001b[0m \u001b[0mendog\u001b[0m\u001b[1;33m,\u001b[0m \u001b[0mexog\u001b[0m\u001b[1;33m=\u001b[0m\u001b[1;32mNone\u001b[0m\u001b[1;33m,\u001b[0m \u001b[1;33m**\u001b[0m\u001b[0mkwargs\u001b[0m\u001b[1;33m)\u001b[0m\u001b[1;33m:\u001b[0m\u001b[1;33m\u001b[0m\u001b[1;33m\u001b[0m\u001b[0m\n\u001b[1;32m--> 237\u001b[1;33m         \u001b[0msuper\u001b[0m\u001b[1;33m(\u001b[0m\u001b[0mLikelihoodModel\u001b[0m\u001b[1;33m,\u001b[0m \u001b[0mself\u001b[0m\u001b[1;33m)\u001b[0m\u001b[1;33m.\u001b[0m\u001b[0m__init__\u001b[0m\u001b[1;33m(\u001b[0m\u001b[0mendog\u001b[0m\u001b[1;33m,\u001b[0m \u001b[0mexog\u001b[0m\u001b[1;33m,\u001b[0m \u001b[1;33m**\u001b[0m\u001b[0mkwargs\u001b[0m\u001b[1;33m)\u001b[0m\u001b[1;33m\u001b[0m\u001b[1;33m\u001b[0m\u001b[0m\n\u001b[0m\u001b[0;32m    238\u001b[0m         \u001b[0mself\u001b[0m\u001b[1;33m.\u001b[0m\u001b[0minitialize\u001b[0m\u001b[1;33m(\u001b[0m\u001b[1;33m)\u001b[0m\u001b[1;33m\u001b[0m\u001b[1;33m\u001b[0m\u001b[0m\n\u001b[0;32m    239\u001b[0m \u001b[1;33m\u001b[0m\u001b[0m\n",
      "\u001b[1;32mC:\\ProgramData\\Anaconda3\\lib\\site-packages\\statsmodels\\base\\model.py\u001b[0m in \u001b[0;36m__init__\u001b[1;34m(self, endog, exog, **kwargs)\u001b[0m\n\u001b[0;32m     75\u001b[0m         \u001b[0mmissing\u001b[0m \u001b[1;33m=\u001b[0m \u001b[0mkwargs\u001b[0m\u001b[1;33m.\u001b[0m\u001b[0mpop\u001b[0m\u001b[1;33m(\u001b[0m\u001b[1;34m'missing'\u001b[0m\u001b[1;33m,\u001b[0m \u001b[1;34m'none'\u001b[0m\u001b[1;33m)\u001b[0m\u001b[1;33m\u001b[0m\u001b[1;33m\u001b[0m\u001b[0m\n\u001b[0;32m     76\u001b[0m         \u001b[0mhasconst\u001b[0m \u001b[1;33m=\u001b[0m \u001b[0mkwargs\u001b[0m\u001b[1;33m.\u001b[0m\u001b[0mpop\u001b[0m\u001b[1;33m(\u001b[0m\u001b[1;34m'hasconst'\u001b[0m\u001b[1;33m,\u001b[0m \u001b[1;32mNone\u001b[0m\u001b[1;33m)\u001b[0m\u001b[1;33m\u001b[0m\u001b[1;33m\u001b[0m\u001b[0m\n\u001b[1;32m---> 77\u001b[1;33m         self.data = self._handle_data(endog, exog, missing, hasconst,\n\u001b[0m\u001b[0;32m     78\u001b[0m                                       **kwargs)\n\u001b[0;32m     79\u001b[0m         \u001b[0mself\u001b[0m\u001b[1;33m.\u001b[0m\u001b[0mk_constant\u001b[0m \u001b[1;33m=\u001b[0m \u001b[0mself\u001b[0m\u001b[1;33m.\u001b[0m\u001b[0mdata\u001b[0m\u001b[1;33m.\u001b[0m\u001b[0mk_constant\u001b[0m\u001b[1;33m\u001b[0m\u001b[1;33m\u001b[0m\u001b[0m\n",
      "\u001b[1;32mC:\\ProgramData\\Anaconda3\\lib\\site-packages\\statsmodels\\base\\model.py\u001b[0m in \u001b[0;36m_handle_data\u001b[1;34m(self, endog, exog, missing, hasconst, **kwargs)\u001b[0m\n\u001b[0;32m     99\u001b[0m \u001b[1;33m\u001b[0m\u001b[0m\n\u001b[0;32m    100\u001b[0m     \u001b[1;32mdef\u001b[0m \u001b[0m_handle_data\u001b[0m\u001b[1;33m(\u001b[0m\u001b[0mself\u001b[0m\u001b[1;33m,\u001b[0m \u001b[0mendog\u001b[0m\u001b[1;33m,\u001b[0m \u001b[0mexog\u001b[0m\u001b[1;33m,\u001b[0m \u001b[0mmissing\u001b[0m\u001b[1;33m,\u001b[0m \u001b[0mhasconst\u001b[0m\u001b[1;33m,\u001b[0m \u001b[1;33m**\u001b[0m\u001b[0mkwargs\u001b[0m\u001b[1;33m)\u001b[0m\u001b[1;33m:\u001b[0m\u001b[1;33m\u001b[0m\u001b[1;33m\u001b[0m\u001b[0m\n\u001b[1;32m--> 101\u001b[1;33m         \u001b[0mdata\u001b[0m \u001b[1;33m=\u001b[0m \u001b[0mhandle_data\u001b[0m\u001b[1;33m(\u001b[0m\u001b[0mendog\u001b[0m\u001b[1;33m,\u001b[0m \u001b[0mexog\u001b[0m\u001b[1;33m,\u001b[0m \u001b[0mmissing\u001b[0m\u001b[1;33m,\u001b[0m \u001b[0mhasconst\u001b[0m\u001b[1;33m,\u001b[0m \u001b[1;33m**\u001b[0m\u001b[0mkwargs\u001b[0m\u001b[1;33m)\u001b[0m\u001b[1;33m\u001b[0m\u001b[1;33m\u001b[0m\u001b[0m\n\u001b[0m\u001b[0;32m    102\u001b[0m         \u001b[1;31m# kwargs arrays could have changed, easier to just attach here\u001b[0m\u001b[1;33m\u001b[0m\u001b[1;33m\u001b[0m\u001b[0m\n\u001b[0;32m    103\u001b[0m         \u001b[1;32mfor\u001b[0m \u001b[0mkey\u001b[0m \u001b[1;32min\u001b[0m \u001b[0mkwargs\u001b[0m\u001b[1;33m:\u001b[0m\u001b[1;33m\u001b[0m\u001b[1;33m\u001b[0m\u001b[0m\n",
      "\u001b[1;32mC:\\ProgramData\\Anaconda3\\lib\\site-packages\\statsmodels\\base\\data.py\u001b[0m in \u001b[0;36mhandle_data\u001b[1;34m(endog, exog, missing, hasconst, **kwargs)\u001b[0m\n\u001b[0;32m    670\u001b[0m \u001b[1;33m\u001b[0m\u001b[0m\n\u001b[0;32m    671\u001b[0m     \u001b[0mklass\u001b[0m \u001b[1;33m=\u001b[0m \u001b[0mhandle_data_class_factory\u001b[0m\u001b[1;33m(\u001b[0m\u001b[0mendog\u001b[0m\u001b[1;33m,\u001b[0m \u001b[0mexog\u001b[0m\u001b[1;33m)\u001b[0m\u001b[1;33m\u001b[0m\u001b[1;33m\u001b[0m\u001b[0m\n\u001b[1;32m--> 672\u001b[1;33m     return klass(endog, exog=exog, missing=missing, hasconst=hasconst,\n\u001b[0m\u001b[0;32m    673\u001b[0m                  **kwargs)\n",
      "\u001b[1;32mC:\\ProgramData\\Anaconda3\\lib\\site-packages\\statsmodels\\base\\data.py\u001b[0m in \u001b[0;36m__init__\u001b[1;34m(self, endog, exog, missing, hasconst, **kwargs)\u001b[0m\n\u001b[0;32m     81\u001b[0m             \u001b[0mself\u001b[0m\u001b[1;33m.\u001b[0m\u001b[0morig_endog\u001b[0m \u001b[1;33m=\u001b[0m \u001b[0mendog\u001b[0m\u001b[1;33m\u001b[0m\u001b[1;33m\u001b[0m\u001b[0m\n\u001b[0;32m     82\u001b[0m             \u001b[0mself\u001b[0m\u001b[1;33m.\u001b[0m\u001b[0morig_exog\u001b[0m \u001b[1;33m=\u001b[0m \u001b[0mexog\u001b[0m\u001b[1;33m\u001b[0m\u001b[1;33m\u001b[0m\u001b[0m\n\u001b[1;32m---> 83\u001b[1;33m             \u001b[0mself\u001b[0m\u001b[1;33m.\u001b[0m\u001b[0mendog\u001b[0m\u001b[1;33m,\u001b[0m \u001b[0mself\u001b[0m\u001b[1;33m.\u001b[0m\u001b[0mexog\u001b[0m \u001b[1;33m=\u001b[0m \u001b[0mself\u001b[0m\u001b[1;33m.\u001b[0m\u001b[0m_convert_endog_exog\u001b[0m\u001b[1;33m(\u001b[0m\u001b[0mendog\u001b[0m\u001b[1;33m,\u001b[0m \u001b[0mexog\u001b[0m\u001b[1;33m)\u001b[0m\u001b[1;33m\u001b[0m\u001b[1;33m\u001b[0m\u001b[0m\n\u001b[0m\u001b[0;32m     84\u001b[0m \u001b[1;33m\u001b[0m\u001b[0m\n\u001b[0;32m     85\u001b[0m         \u001b[0mself\u001b[0m\u001b[1;33m.\u001b[0m\u001b[0mconst_idx\u001b[0m \u001b[1;33m=\u001b[0m \u001b[1;32mNone\u001b[0m\u001b[1;33m\u001b[0m\u001b[1;33m\u001b[0m\u001b[0m\n",
      "\u001b[1;32mC:\\ProgramData\\Anaconda3\\lib\\site-packages\\statsmodels\\base\\data.py\u001b[0m in \u001b[0;36m_convert_endog_exog\u001b[1;34m(self, endog, exog)\u001b[0m\n\u001b[0;32m    506\u001b[0m         \u001b[0mexog\u001b[0m \u001b[1;33m=\u001b[0m \u001b[0mexog\u001b[0m \u001b[1;32mif\u001b[0m \u001b[0mexog\u001b[0m \u001b[1;32mis\u001b[0m \u001b[1;32mNone\u001b[0m \u001b[1;32melse\u001b[0m \u001b[0mnp\u001b[0m\u001b[1;33m.\u001b[0m\u001b[0masarray\u001b[0m\u001b[1;33m(\u001b[0m\u001b[0mexog\u001b[0m\u001b[1;33m)\u001b[0m\u001b[1;33m\u001b[0m\u001b[1;33m\u001b[0m\u001b[0m\n\u001b[0;32m    507\u001b[0m         \u001b[1;32mif\u001b[0m \u001b[0mendog\u001b[0m\u001b[1;33m.\u001b[0m\u001b[0mdtype\u001b[0m \u001b[1;33m==\u001b[0m \u001b[0mobject\u001b[0m \u001b[1;32mor\u001b[0m \u001b[0mexog\u001b[0m \u001b[1;32mis\u001b[0m \u001b[1;32mnot\u001b[0m \u001b[1;32mNone\u001b[0m \u001b[1;32mand\u001b[0m \u001b[0mexog\u001b[0m\u001b[1;33m.\u001b[0m\u001b[0mdtype\u001b[0m \u001b[1;33m==\u001b[0m \u001b[0mobject\u001b[0m\u001b[1;33m:\u001b[0m\u001b[1;33m\u001b[0m\u001b[1;33m\u001b[0m\u001b[0m\n\u001b[1;32m--> 508\u001b[1;33m             raise ValueError(\"Pandas data cast to numpy dtype of object. \"\n\u001b[0m\u001b[0;32m    509\u001b[0m                              \"Check input data with np.asarray(data).\")\n\u001b[0;32m    510\u001b[0m         \u001b[1;32mreturn\u001b[0m \u001b[0msuper\u001b[0m\u001b[1;33m(\u001b[0m\u001b[0mPandasData\u001b[0m\u001b[1;33m,\u001b[0m \u001b[0mself\u001b[0m\u001b[1;33m)\u001b[0m\u001b[1;33m.\u001b[0m\u001b[0m_convert_endog_exog\u001b[0m\u001b[1;33m(\u001b[0m\u001b[0mendog\u001b[0m\u001b[1;33m,\u001b[0m \u001b[0mexog\u001b[0m\u001b[1;33m)\u001b[0m\u001b[1;33m\u001b[0m\u001b[1;33m\u001b[0m\u001b[0m\n",
      "\u001b[1;31mValueError\u001b[0m: Pandas data cast to numpy dtype of object. Check input data with np.asarray(data)."
     ]
    }
   ],
   "source": [
    "# Target é o preço\n",
    "y_2 = dados[['price (£)']]\n",
    "\n",
    "# Vamos usar o preço e número de reviews como features\n",
    "x_2 = dados[['number_of_reviews', 'rating', 'parentcategory', 'subcategory', 'subsubcategory']]\n",
    "\n",
    "# Podemos separar a análise por categoria?\n",
    "\n",
    "# Agora vamos fazer MMQ (OLS) com a função regress\n",
    "resultados_2 = regress(y_2, x_2)\n",
    "resultados_2.summary()"
   ]
  },
  {
   "cell_type": "markdown",
   "id": "082bc2ce",
   "metadata": {},
   "source": [
    "# Tentativa #4(DUMMIES) "
   ]
  },
  {
   "cell_type": "markdown",
   "id": "df675ef9",
   "metadata": {},
   "source": [
    "**tentativa 1 dummies** "
   ]
  },
  {
   "cell_type": "code",
   "execution_count": 20,
   "id": "10b4ab6f",
   "metadata": {},
   "outputs": [
    {
     "data": {
      "text/html": [
       "<div>\n",
       "<style scoped>\n",
       "    .dataframe tbody tr th:only-of-type {\n",
       "        vertical-align: middle;\n",
       "    }\n",
       "\n",
       "    .dataframe tbody tr th {\n",
       "        vertical-align: top;\n",
       "    }\n",
       "\n",
       "    .dataframe thead th {\n",
       "        text-align: right;\n",
       "    }\n",
       "</style>\n",
       "<table border=\"1\" class=\"dataframe\">\n",
       "  <thead>\n",
       "    <tr style=\"text-align: right;\">\n",
       "      <th></th>\n",
       "      <th>price (£)</th>\n",
       "      <th>number_of_reviews</th>\n",
       "      <th>rating</th>\n",
       "      <th>category</th>\n",
       "      <th>subcategory</th>\n",
       "      <th>subsubcategory</th>\n",
       "      <th>new_parentcategory</th>\n",
       "      <th>new_subcategory</th>\n",
       "      <th>new_subsubcategory</th>\n",
       "      <th>parentcategory_Arts &amp; Crafts</th>\n",
       "      <th>...</th>\n",
       "      <th>parentcategory_Pens, Pencils &amp; Writing Supplies</th>\n",
       "      <th>parentcategory_Pretend Play</th>\n",
       "      <th>parentcategory_Puppets &amp; Puppet Theatres</th>\n",
       "      <th>parentcategory_Sex &amp; Sensuality</th>\n",
       "      <th>parentcategory_Sports Toys &amp; Outdoor</th>\n",
       "      <th>parentcategory_Storage, Cleaning &amp; Ring Sizers</th>\n",
       "      <th>parentcategory_Supporters' Gear</th>\n",
       "      <th>parentcategory_Sweets, Chocolate &amp; Gum</th>\n",
       "      <th>parentcategory_Women</th>\n",
       "      <th>parentcategory_Worlds Apart</th>\n",
       "    </tr>\n",
       "  </thead>\n",
       "  <tbody>\n",
       "    <tr>\n",
       "      <th>0</th>\n",
       "      <td>3.42</td>\n",
       "      <td>15</td>\n",
       "      <td>4.9</td>\n",
       "      <td>Hobbies &gt; Model Trains &amp; Railway Sets &gt; Rail V...</td>\n",
       "      <td>Model Trains &amp; Railway Sets</td>\n",
       "      <td>Rail Vehicles</td>\n",
       "      <td>Hobbies</td>\n",
       "      <td>Model Trains &amp; Railway Sets</td>\n",
       "      <td>Outros</td>\n",
       "      <td>0</td>\n",
       "      <td>...</td>\n",
       "      <td>0</td>\n",
       "      <td>0</td>\n",
       "      <td>0</td>\n",
       "      <td>0</td>\n",
       "      <td>0</td>\n",
       "      <td>0</td>\n",
       "      <td>0</td>\n",
       "      <td>0</td>\n",
       "      <td>0</td>\n",
       "      <td>0</td>\n",
       "    </tr>\n",
       "    <tr>\n",
       "      <th>1</th>\n",
       "      <td>16.99</td>\n",
       "      <td>2</td>\n",
       "      <td>4.5</td>\n",
       "      <td>Hobbies &gt; Model Trains &amp; Railway Sets &gt; Rail V...</td>\n",
       "      <td>Model Trains &amp; Railway Sets</td>\n",
       "      <td>Rail Vehicles</td>\n",
       "      <td>Hobbies</td>\n",
       "      <td>Model Trains &amp; Railway Sets</td>\n",
       "      <td>Outros</td>\n",
       "      <td>0</td>\n",
       "      <td>...</td>\n",
       "      <td>0</td>\n",
       "      <td>0</td>\n",
       "      <td>0</td>\n",
       "      <td>0</td>\n",
       "      <td>0</td>\n",
       "      <td>0</td>\n",
       "      <td>0</td>\n",
       "      <td>0</td>\n",
       "      <td>0</td>\n",
       "      <td>0</td>\n",
       "    </tr>\n",
       "    <tr>\n",
       "      <th>2</th>\n",
       "      <td>9.99</td>\n",
       "      <td>17</td>\n",
       "      <td>3.9</td>\n",
       "      <td>Hobbies &gt; Model Trains &amp; Railway Sets &gt; Rail V...</td>\n",
       "      <td>Model Trains &amp; Railway Sets</td>\n",
       "      <td>Rail Vehicles</td>\n",
       "      <td>Hobbies</td>\n",
       "      <td>Model Trains &amp; Railway Sets</td>\n",
       "      <td>Outros</td>\n",
       "      <td>0</td>\n",
       "      <td>...</td>\n",
       "      <td>0</td>\n",
       "      <td>0</td>\n",
       "      <td>0</td>\n",
       "      <td>0</td>\n",
       "      <td>0</td>\n",
       "      <td>0</td>\n",
       "      <td>0</td>\n",
       "      <td>0</td>\n",
       "      <td>0</td>\n",
       "      <td>0</td>\n",
       "    </tr>\n",
       "    <tr>\n",
       "      <th>3</th>\n",
       "      <td>39.99</td>\n",
       "      <td>1</td>\n",
       "      <td>5.0</td>\n",
       "      <td>Hobbies &gt; Model Trains &amp; Railway Sets &gt; Rail V...</td>\n",
       "      <td>Model Trains &amp; Railway Sets</td>\n",
       "      <td>Rail Vehicles</td>\n",
       "      <td>Hobbies</td>\n",
       "      <td>Model Trains &amp; Railway Sets</td>\n",
       "      <td>Outros</td>\n",
       "      <td>0</td>\n",
       "      <td>...</td>\n",
       "      <td>0</td>\n",
       "      <td>0</td>\n",
       "      <td>0</td>\n",
       "      <td>0</td>\n",
       "      <td>0</td>\n",
       "      <td>0</td>\n",
       "      <td>0</td>\n",
       "      <td>0</td>\n",
       "      <td>0</td>\n",
       "      <td>0</td>\n",
       "    </tr>\n",
       "    <tr>\n",
       "      <th>4</th>\n",
       "      <td>32.19</td>\n",
       "      <td>3</td>\n",
       "      <td>4.7</td>\n",
       "      <td>Hobbies &gt; Model Trains &amp; Railway Sets &gt; Rail V...</td>\n",
       "      <td>Model Trains &amp; Railway Sets</td>\n",
       "      <td>Rail Vehicles</td>\n",
       "      <td>Hobbies</td>\n",
       "      <td>Model Trains &amp; Railway Sets</td>\n",
       "      <td>Outros</td>\n",
       "      <td>0</td>\n",
       "      <td>...</td>\n",
       "      <td>0</td>\n",
       "      <td>0</td>\n",
       "      <td>0</td>\n",
       "      <td>0</td>\n",
       "      <td>0</td>\n",
       "      <td>0</td>\n",
       "      <td>0</td>\n",
       "      <td>0</td>\n",
       "      <td>0</td>\n",
       "      <td>0</td>\n",
       "    </tr>\n",
       "    <tr>\n",
       "      <th>...</th>\n",
       "      <td>...</td>\n",
       "      <td>...</td>\n",
       "      <td>...</td>\n",
       "      <td>...</td>\n",
       "      <td>...</td>\n",
       "      <td>...</td>\n",
       "      <td>...</td>\n",
       "      <td>...</td>\n",
       "      <td>...</td>\n",
       "      <td>...</td>\n",
       "      <td>...</td>\n",
       "      <td>...</td>\n",
       "      <td>...</td>\n",
       "      <td>...</td>\n",
       "      <td>...</td>\n",
       "      <td>...</td>\n",
       "      <td>...</td>\n",
       "      <td>...</td>\n",
       "      <td>...</td>\n",
       "      <td>...</td>\n",
       "      <td>...</td>\n",
       "    </tr>\n",
       "    <tr>\n",
       "      <th>7981</th>\n",
       "      <td>22.95</td>\n",
       "      <td>3</td>\n",
       "      <td>5.0</td>\n",
       "      <td>Hobbies &gt; Collectible Figures &amp; Memorabilia &gt; ...</td>\n",
       "      <td>Collectible Figures &amp; Memorabilia</td>\n",
       "      <td>Collectible Props &amp; Memorabilia</td>\n",
       "      <td>Hobbies</td>\n",
       "      <td>Outros</td>\n",
       "      <td>Outros</td>\n",
       "      <td>0</td>\n",
       "      <td>...</td>\n",
       "      <td>0</td>\n",
       "      <td>0</td>\n",
       "      <td>0</td>\n",
       "      <td>0</td>\n",
       "      <td>0</td>\n",
       "      <td>0</td>\n",
       "      <td>0</td>\n",
       "      <td>0</td>\n",
       "      <td>0</td>\n",
       "      <td>0</td>\n",
       "    </tr>\n",
       "    <tr>\n",
       "      <th>7982</th>\n",
       "      <td>39.99</td>\n",
       "      <td>1</td>\n",
       "      <td>4.0</td>\n",
       "      <td>Characters &amp; Brands &gt; Star Wars &gt; Toys</td>\n",
       "      <td>Star Wars</td>\n",
       "      <td>Toys</td>\n",
       "      <td>Characters &amp; Brands</td>\n",
       "      <td>Outros</td>\n",
       "      <td>Toys</td>\n",
       "      <td>0</td>\n",
       "      <td>...</td>\n",
       "      <td>0</td>\n",
       "      <td>0</td>\n",
       "      <td>0</td>\n",
       "      <td>0</td>\n",
       "      <td>0</td>\n",
       "      <td>0</td>\n",
       "      <td>0</td>\n",
       "      <td>0</td>\n",
       "      <td>0</td>\n",
       "      <td>0</td>\n",
       "    </tr>\n",
       "    <tr>\n",
       "      <th>7983</th>\n",
       "      <td>43.99</td>\n",
       "      <td>1</td>\n",
       "      <td>5.0</td>\n",
       "      <td>Novelty &amp; Special Use &gt; Novelty &gt; Accessories ...</td>\n",
       "      <td>Novelty</td>\n",
       "      <td>Accessories</td>\n",
       "      <td>Outros</td>\n",
       "      <td>Outros</td>\n",
       "      <td>Outros</td>\n",
       "      <td>0</td>\n",
       "      <td>...</td>\n",
       "      <td>0</td>\n",
       "      <td>0</td>\n",
       "      <td>0</td>\n",
       "      <td>0</td>\n",
       "      <td>0</td>\n",
       "      <td>0</td>\n",
       "      <td>0</td>\n",
       "      <td>0</td>\n",
       "      <td>0</td>\n",
       "      <td>0</td>\n",
       "    </tr>\n",
       "    <tr>\n",
       "      <th>7984</th>\n",
       "      <td>49.81</td>\n",
       "      <td>1</td>\n",
       "      <td>5.0</td>\n",
       "      <td>Hobbies &gt; Collectible Figures &amp; Memorabilia &gt; ...</td>\n",
       "      <td>Collectible Figures &amp; Memorabilia</td>\n",
       "      <td>Collectible Props &amp; Memorabilia</td>\n",
       "      <td>Hobbies</td>\n",
       "      <td>Outros</td>\n",
       "      <td>Outros</td>\n",
       "      <td>0</td>\n",
       "      <td>...</td>\n",
       "      <td>0</td>\n",
       "      <td>0</td>\n",
       "      <td>0</td>\n",
       "      <td>0</td>\n",
       "      <td>0</td>\n",
       "      <td>0</td>\n",
       "      <td>0</td>\n",
       "      <td>0</td>\n",
       "      <td>0</td>\n",
       "      <td>0</td>\n",
       "    </tr>\n",
       "    <tr>\n",
       "      <th>7985</th>\n",
       "      <td>21.20</td>\n",
       "      <td>11</td>\n",
       "      <td>4.5</td>\n",
       "      <td>Characters &amp; Brands &gt; Star Wars &gt; Toys</td>\n",
       "      <td>Star Wars</td>\n",
       "      <td>Toys</td>\n",
       "      <td>Characters &amp; Brands</td>\n",
       "      <td>Outros</td>\n",
       "      <td>Toys</td>\n",
       "      <td>0</td>\n",
       "      <td>...</td>\n",
       "      <td>0</td>\n",
       "      <td>0</td>\n",
       "      <td>0</td>\n",
       "      <td>0</td>\n",
       "      <td>0</td>\n",
       "      <td>0</td>\n",
       "      <td>0</td>\n",
       "      <td>0</td>\n",
       "      <td>0</td>\n",
       "      <td>0</td>\n",
       "    </tr>\n",
       "  </tbody>\n",
       "</table>\n",
       "<p>7986 rows × 49 columns</p>\n",
       "</div>"
      ],
      "text/plain": [
       "      price (£)  number_of_reviews  rating  \\\n",
       "0          3.42                 15     4.9   \n",
       "1         16.99                  2     4.5   \n",
       "2          9.99                 17     3.9   \n",
       "3         39.99                  1     5.0   \n",
       "4         32.19                  3     4.7   \n",
       "...         ...                ...     ...   \n",
       "7981      22.95                  3     5.0   \n",
       "7982      39.99                  1     4.0   \n",
       "7983      43.99                  1     5.0   \n",
       "7984      49.81                  1     5.0   \n",
       "7985      21.20                 11     4.5   \n",
       "\n",
       "                                               category  \\\n",
       "0     Hobbies > Model Trains & Railway Sets > Rail V...   \n",
       "1     Hobbies > Model Trains & Railway Sets > Rail V...   \n",
       "2     Hobbies > Model Trains & Railway Sets > Rail V...   \n",
       "3     Hobbies > Model Trains & Railway Sets > Rail V...   \n",
       "4     Hobbies > Model Trains & Railway Sets > Rail V...   \n",
       "...                                                 ...   \n",
       "7981  Hobbies > Collectible Figures & Memorabilia > ...   \n",
       "7982             Characters & Brands > Star Wars > Toys   \n",
       "7983  Novelty & Special Use > Novelty > Accessories ...   \n",
       "7984  Hobbies > Collectible Figures & Memorabilia > ...   \n",
       "7985             Characters & Brands > Star Wars > Toys   \n",
       "\n",
       "                            subcategory                   subsubcategory  \\\n",
       "0           Model Trains & Railway Sets                    Rail Vehicles   \n",
       "1           Model Trains & Railway Sets                    Rail Vehicles   \n",
       "2           Model Trains & Railway Sets                    Rail Vehicles   \n",
       "3           Model Trains & Railway Sets                    Rail Vehicles   \n",
       "4           Model Trains & Railway Sets                    Rail Vehicles   \n",
       "...                                 ...                              ...   \n",
       "7981  Collectible Figures & Memorabilia  Collectible Props & Memorabilia   \n",
       "7982                          Star Wars                             Toys   \n",
       "7983                            Novelty                      Accessories   \n",
       "7984  Collectible Figures & Memorabilia  Collectible Props & Memorabilia   \n",
       "7985                          Star Wars                             Toys   \n",
       "\n",
       "       new_parentcategory              new_subcategory new_subsubcategory  \\\n",
       "0                 Hobbies  Model Trains & Railway Sets             Outros   \n",
       "1                 Hobbies  Model Trains & Railway Sets             Outros   \n",
       "2                 Hobbies  Model Trains & Railway Sets             Outros   \n",
       "3                 Hobbies  Model Trains & Railway Sets             Outros   \n",
       "4                 Hobbies  Model Trains & Railway Sets             Outros   \n",
       "...                   ...                          ...                ...   \n",
       "7981              Hobbies                       Outros             Outros   \n",
       "7982  Characters & Brands                       Outros               Toys   \n",
       "7983               Outros                       Outros             Outros   \n",
       "7984              Hobbies                       Outros             Outros   \n",
       "7985  Characters & Brands                       Outros               Toys   \n",
       "\n",
       "      parentcategory_Arts & Crafts  ...  \\\n",
       "0                                0  ...   \n",
       "1                                0  ...   \n",
       "2                                0  ...   \n",
       "3                                0  ...   \n",
       "4                                0  ...   \n",
       "...                            ...  ...   \n",
       "7981                             0  ...   \n",
       "7982                             0  ...   \n",
       "7983                             0  ...   \n",
       "7984                             0  ...   \n",
       "7985                             0  ...   \n",
       "\n",
       "      parentcategory_Pens, Pencils & Writing Supplies  \\\n",
       "0                                                   0   \n",
       "1                                                   0   \n",
       "2                                                   0   \n",
       "3                                                   0   \n",
       "4                                                   0   \n",
       "...                                               ...   \n",
       "7981                                                0   \n",
       "7982                                                0   \n",
       "7983                                                0   \n",
       "7984                                                0   \n",
       "7985                                                0   \n",
       "\n",
       "      parentcategory_Pretend Play  parentcategory_Puppets & Puppet Theatres  \\\n",
       "0                               0                                         0   \n",
       "1                               0                                         0   \n",
       "2                               0                                         0   \n",
       "3                               0                                         0   \n",
       "4                               0                                         0   \n",
       "...                           ...                                       ...   \n",
       "7981                            0                                         0   \n",
       "7982                            0                                         0   \n",
       "7983                            0                                         0   \n",
       "7984                            0                                         0   \n",
       "7985                            0                                         0   \n",
       "\n",
       "      parentcategory_Sex & Sensuality  parentcategory_Sports Toys & Outdoor  \\\n",
       "0                                   0                                     0   \n",
       "1                                   0                                     0   \n",
       "2                                   0                                     0   \n",
       "3                                   0                                     0   \n",
       "4                                   0                                     0   \n",
       "...                               ...                                   ...   \n",
       "7981                                0                                     0   \n",
       "7982                                0                                     0   \n",
       "7983                                0                                     0   \n",
       "7984                                0                                     0   \n",
       "7985                                0                                     0   \n",
       "\n",
       "      parentcategory_Storage, Cleaning & Ring Sizers  \\\n",
       "0                                                  0   \n",
       "1                                                  0   \n",
       "2                                                  0   \n",
       "3                                                  0   \n",
       "4                                                  0   \n",
       "...                                              ...   \n",
       "7981                                               0   \n",
       "7982                                               0   \n",
       "7983                                               0   \n",
       "7984                                               0   \n",
       "7985                                               0   \n",
       "\n",
       "      parentcategory_Supporters' Gear  parentcategory_Sweets, Chocolate & Gum  \\\n",
       "0                                   0                                       0   \n",
       "1                                   0                                       0   \n",
       "2                                   0                                       0   \n",
       "3                                   0                                       0   \n",
       "4                                   0                                       0   \n",
       "...                               ...                                     ...   \n",
       "7981                                0                                       0   \n",
       "7982                                0                                       0   \n",
       "7983                                0                                       0   \n",
       "7984                                0                                       0   \n",
       "7985                                0                                       0   \n",
       "\n",
       "      parentcategory_Women  parentcategory_Worlds Apart  \n",
       "0                        0                            0  \n",
       "1                        0                            0  \n",
       "2                        0                            0  \n",
       "3                        0                            0  \n",
       "4                        0                            0  \n",
       "...                    ...                          ...  \n",
       "7981                     0                            0  \n",
       "7982                     0                            0  \n",
       "7983                     0                            0  \n",
       "7984                     0                            0  \n",
       "7985                     0                            0  \n",
       "\n",
       "[7986 rows x 49 columns]"
      ]
     },
     "execution_count": 20,
     "metadata": {},
     "output_type": "execute_result"
    }
   ],
   "source": [
    "dummiesdados = pd.get_dummies(dados, columns=['parentcategory'])\n",
    "dummiesdados"
   ]
  },
  {
   "cell_type": "code",
   "execution_count": 21,
   "id": "94a36082",
   "metadata": {},
   "outputs": [
    {
     "name": "stderr",
     "output_type": "stream",
     "text": [
      "C:\\ProgramData\\Anaconda3\\lib\\site-packages\\statsmodels\\tsa\\tsatools.py:142: FutureWarning: In a future version of pandas all arguments of concat except for the argument 'objs' will be keyword-only\n",
      "  x = pd.concat(x[::order], 1)\n"
     ]
    },
    {
     "data": {
      "text/html": [
       "<table class=\"simpletable\">\n",
       "<caption>OLS Regression Results</caption>\n",
       "<tr>\n",
       "  <th>Dep. Variable:</th>        <td>price (£)</td>    <th>  R-squared:         </th> <td>   0.002</td> \n",
       "</tr>\n",
       "<tr>\n",
       "  <th>Model:</th>                   <td>OLS</td>       <th>  Adj. R-squared:    </th> <td>   0.002</td> \n",
       "</tr>\n",
       "<tr>\n",
       "  <th>Method:</th>             <td>Least Squares</td>  <th>  F-statistic:       </th> <td>   9.974</td> \n",
       "</tr>\n",
       "<tr>\n",
       "  <th>Date:</th>             <td>Tue, 30 Nov 2021</td> <th>  Prob (F-statistic):</th> <td>4.72e-05</td> \n",
       "</tr>\n",
       "<tr>\n",
       "  <th>Time:</th>                 <td>11:24:59</td>     <th>  Log-Likelihood:    </th> <td> -40588.</td> \n",
       "</tr>\n",
       "<tr>\n",
       "  <th>No. Observations:</th>      <td>  7986</td>      <th>  AIC:               </th> <td>8.118e+04</td>\n",
       "</tr>\n",
       "<tr>\n",
       "  <th>Df Residuals:</th>          <td>  7983</td>      <th>  BIC:               </th> <td>8.120e+04</td>\n",
       "</tr>\n",
       "<tr>\n",
       "  <th>Df Model:</th>              <td>     2</td>      <th>                     </th>     <td> </td>    \n",
       "</tr>\n",
       "<tr>\n",
       "  <th>Covariance Type:</th>      <td>nonrobust</td>    <th>                     </th>     <td> </td>    \n",
       "</tr>\n",
       "</table>\n",
       "<table class=\"simpletable\">\n",
       "<tr>\n",
       "          <td></td>             <th>coef</th>     <th>std err</th>      <th>t</th>      <th>P>|t|</th>  <th>[0.025</th>    <th>0.975]</th>  \n",
       "</tr>\n",
       "<tr>\n",
       "  <th>const</th>             <td>    0.6675</td> <td>    5.583</td> <td>    0.120</td> <td> 0.905</td> <td>  -10.277</td> <td>   11.612</td>\n",
       "</tr>\n",
       "<tr>\n",
       "  <th>number_of_reviews</th> <td>   -0.0285</td> <td>    0.012</td> <td>   -2.365</td> <td> 0.018</td> <td>   -0.052</td> <td>   -0.005</td>\n",
       "</tr>\n",
       "<tr>\n",
       "  <th>rating</th>            <td>    4.1297</td> <td>    1.179</td> <td>    3.503</td> <td> 0.000</td> <td>    1.819</td> <td>    6.441</td>\n",
       "</tr>\n",
       "</table>\n",
       "<table class=\"simpletable\">\n",
       "<tr>\n",
       "  <th>Omnibus:</th>       <td>11485.500</td> <th>  Durbin-Watson:     </th>  <td>   1.793</td>  \n",
       "</tr>\n",
       "<tr>\n",
       "  <th>Prob(Omnibus):</th>  <td> 0.000</td>   <th>  Jarque-Bera (JB):  </th> <td>4758387.250</td>\n",
       "</tr>\n",
       "<tr>\n",
       "  <th>Skew:</th>           <td> 8.533</td>   <th>  Prob(JB):          </th>  <td>    0.00</td>  \n",
       "</tr>\n",
       "<tr>\n",
       "  <th>Kurtosis:</th>       <td>121.359</td>  <th>  Cond. No.          </th>  <td>    493.</td>  \n",
       "</tr>\n",
       "</table><br/><br/>Notes:<br/>[1] Standard Errors assume that the covariance matrix of the errors is correctly specified."
      ],
      "text/plain": [
       "<class 'statsmodels.iolib.summary.Summary'>\n",
       "\"\"\"\n",
       "                            OLS Regression Results                            \n",
       "==============================================================================\n",
       "Dep. Variable:              price (£)   R-squared:                       0.002\n",
       "Model:                            OLS   Adj. R-squared:                  0.002\n",
       "Method:                 Least Squares   F-statistic:                     9.974\n",
       "Date:                Tue, 30 Nov 2021   Prob (F-statistic):           4.72e-05\n",
       "Time:                        11:24:59   Log-Likelihood:                -40588.\n",
       "No. Observations:                7986   AIC:                         8.118e+04\n",
       "Df Residuals:                    7983   BIC:                         8.120e+04\n",
       "Df Model:                           2                                         \n",
       "Covariance Type:            nonrobust                                         \n",
       "=====================================================================================\n",
       "                        coef    std err          t      P>|t|      [0.025      0.975]\n",
       "-------------------------------------------------------------------------------------\n",
       "const                 0.6675      5.583      0.120      0.905     -10.277      11.612\n",
       "number_of_reviews    -0.0285      0.012     -2.365      0.018      -0.052      -0.005\n",
       "rating                4.1297      1.179      3.503      0.000       1.819       6.441\n",
       "==============================================================================\n",
       "Omnibus:                    11485.500   Durbin-Watson:                   1.793\n",
       "Prob(Omnibus):                  0.000   Jarque-Bera (JB):          4758387.250\n",
       "Skew:                           8.533   Prob(JB):                         0.00\n",
       "Kurtosis:                     121.359   Cond. No.                         493.\n",
       "==============================================================================\n",
       "\n",
       "Notes:\n",
       "[1] Standard Errors assume that the covariance matrix of the errors is correctly specified.\n",
       "\"\"\""
      ]
     },
     "execution_count": 21,
     "metadata": {},
     "output_type": "execute_result"
    }
   ],
   "source": [
    "\n",
    "\n",
    "# Target é o preço\n",
    "y_d = dummiesdados[['price (£)']]\n",
    "\n",
    "# Vamos usar o preço e número de reviews como features\n",
    "x_d = dummiesdados[['number_of_reviews', 'rating', 'parentcategory_Arts & Crafts',\n",
    "       'parentcategory_Baby & Toddler Toys', 'parentcategory_Bags',\n",
    "       'parentcategory_Bedding & Linens', 'parentcategory_Camping & Hiking',\n",
    "       'parentcategory_Characters & Brands', 'parentcategory_Cooking & Dining',\n",
    "       'parentcategory_Die-Cast & Toy Vehicles', 'parentcategory_Dogs',\n",
    "       'parentcategory_Dolls & Accessories', 'parentcategory_Educational Toys',\n",
    "       'parentcategory_Electronic Toys', 'parentcategory_Fancy Dress',\n",
    "       'parentcategory_Figures & Playsets', 'parentcategory_Games',\n",
    "       'parentcategory_Gardening', 'parentcategory_Handbags & Shoulder Bags',\n",
    "       'parentcategory_Hobbies', 'parentcategory_Home Accessories',\n",
    "       'parentcategory_Indoor Lighting',\n",
    "       'parentcategory_Jams, Honey & Spreads',\n",
    "       'parentcategory_Jigsaws & Puzzles',\n",
    "       'parentcategory_Laundry, Storage & Organisation',\n",
    "       'parentcategory_Medication & Remedies', 'parentcategory_Men',\n",
    "       'parentcategory_Musical Toy Instruments',\n",
    "       'parentcategory_Novelty & Special Use',\n",
    "       'parentcategory_Novelty Jewellery', 'parentcategory_Office Supplies',\n",
    "       'parentcategory_Party Supplies',\n",
    "       'parentcategory_Pens, Pencils & Writing Supplies',\n",
    "       'parentcategory_Pretend Play',\n",
    "       'parentcategory_Puppets & Puppet Theatres',\n",
    "       'parentcategory_Sex & Sensuality']]\n",
    "\n",
    "# Agora vamos fazer MMQ (OLS) com a função regress\n",
    "resultados_d = regress(y_d, x_d)\n",
    "resultados.summary()\n"
   ]
  },
  {
   "cell_type": "code",
   "execution_count": 22,
   "id": "a5ce88c5",
   "metadata": {},
   "outputs": [
    {
     "name": "stdout",
     "output_type": "stream",
     "text": [
      "[[-1.82101175e-02  2.87123696e+00 -1.58596908e+01  7.48107249e+00\n",
      "  -1.45885174e+01 -8.16519284e+00 -1.97175609e-13  7.79434085e-01\n",
      "  -1.52249064e+01  2.26722238e+00  1.31907888e+00 -1.19023628e+01\n",
      "   2.91463355e-01  2.76792248e+01 -9.80561745e+00  6.82765399e-01\n",
      "  -6.53182399e+00 -1.96795009e+01 -1.67864740e+01  1.02557378e+01\n",
      "  -1.76091333e+01 -1.46212908e+01 -1.48446842e+01 -1.06724672e+01\n",
      "   1.77635684e-15 -1.77134994e+01 -1.06022359e+01 -2.50178429e+00\n",
      "  -1.52022402e+01 -2.20477110e+01 -1.62192305e+01 -1.92862349e+01\n",
      "  -1.57788046e+01 -1.41359977e+00 -4.23707744e+00 -7.26647404e+00]]\n",
      "[9.32794646]\n"
     ]
    },
    {
     "data": {
      "image/png": "[encoded data removed]",
      "text/plain": [
       "<Figure size 432x288 with 1 Axes>"
      ]
     },
     "metadata": {
      "needs_background": "light"
     },
     "output_type": "display_data"
    },
    {
     "data": {
      "image/png": "[encoded data removed]",
      "text/plain": [
       "<Figure size 432x288 with 1 Axes>"
      ]
     },
     "metadata": {
      "needs_background": "light"
     },
     "output_type": "display_data"
    }
   ],
   "source": [
    "x_train, x_test, y_train, y_test = train_test_split(x_d, y_d, test_size = 0.3)\n",
    "model = LinearRegression()\n",
    "model.fit(x_train, y_train)\n",
    "print(model.coef_)\n",
    "\n",
    "print(model.intercept_)\n",
    "#pd.DataFrame(model.coef_, x.columns, columns = ['Coeff'])\n",
    "\n",
    "predictions = model.predict(x_test)\n",
    "plt.scatter(y_test, predictions)\n",
    "plt.title('Prevendo o preço')\n",
    "plt.show()\n",
    "plt.hist(y_test - predictions)\n",
    "plt.title('Histograma verifica previsão do preço')\n",
    "plt.show()\n",
    "\n"
   ]
  },
  {
   "cell_type": "code",
   "execution_count": 35,
   "id": "cc01dd1d",
   "metadata": {},
   "outputs": [
    {
     "name": "stdout",
     "output_type": "stream",
     "text": [
      "MAE: 17.103142497925017 \n",
      "MSE: 2218.4587119602775 \n"
     ]
    }
   ],
   "source": [
    "print('MAE: {} '.format(metrics.mean_absolute_error(y_test, predictions)))\n",
    "metrics.mean_squared_error(y_test, predictions)\n",
    "print('MSE: {} '.format(metrics.mean_squared_error(y_test, predictions)))\n",
    "\n",
    "\n"
   ]
  },
  {
   "cell_type": "code",
   "execution_count": null,
   "id": "2b4cfc2b-2103-4617-9b86-99fc7d1b4a31",
   "metadata": {},
   "outputs": [],
   "source": []
  }
 ],
 "metadata": {
  "kernelspec": {
   "display_name": "Python 3 (ipykernel)",
   "language": "python",
   "name": "python3"
  },
  "language_info": {
   "codemirror_mode": {
    "name": "ipython",
    "version": 3
   },
   "file_extension": ".py",
   "mimetype": "text/x-python",
   "name": "python",
   "nbconvert_exporter": "python",
   "pygments_lexer": "ipython3",
   "version": "3.9.7"
  }
 },
 "nbformat": 4,
 "nbformat_minor": 5
}
