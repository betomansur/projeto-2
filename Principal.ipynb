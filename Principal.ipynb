{
 "cells": [
  {
   "cell_type": "markdown",
   "id": "16466bca",
   "metadata": {},
   "source": [
    "# 1. Ler o DataSet"
   ]
  },
  {
   "cell_type": "code",
   "execution_count": 11,
   "id": "845af221-b1cd-4095-b09b-730c500dfb84",
   "metadata": {},
   "outputs": [
    {
     "name": "stdout",
     "output_type": "stream",
     "text": [
      "Esperamos trabalhar no diretório: \n",
      "c:\\Users\\Lior Lerner\\Documents\\projeto-2\n",
      "\n",
      "Parece que o arquivo dataset.xlsx está na mesma pasta do notebook, yay!\n"
     ]
    }
   ],
   "source": [
    "import pandas as pd\n",
    "import os\n",
    "import matplotlib.pyplot as plt\n",
    "\n",
    "filename = 'dataset.xlsx'\n",
    "\n",
    "print(f'Esperamos trabalhar no diretório: \\n{os.getcwd()}\\n')\n",
    "\n",
    "if filename in os.listdir():\n",
    "    print(f'Parece que o arquivo {filename} está na mesma pasta do notebook, yay!')\n",
    "    \n",
    "else:\n",
    "    print(f'Não encontrei o arquivo {filename}')"
   ]
  },
  {
   "cell_type": "code",
   "execution_count": 12,
   "id": "0b1170f8",
   "metadata": {},
   "outputs": [
    {
     "data": {
      "text/html": [
       "<div>\n",
       "<style scoped>\n",
       "    .dataframe tbody tr th:only-of-type {\n",
       "        vertical-align: middle;\n",
       "    }\n",
       "\n",
       "    .dataframe tbody tr th {\n",
       "        vertical-align: top;\n",
       "    }\n",
       "\n",
       "    .dataframe thead th {\n",
       "        text-align: right;\n",
       "    }\n",
       "</style>\n",
       "<table border=\"1\" class=\"dataframe\">\n",
       "  <thead>\n",
       "    <tr style=\"text-align: right;\">\n",
       "      <th></th>\n",
       "      <th>price (£)</th>\n",
       "      <th>number_of_reviews</th>\n",
       "      <th>rating</th>\n",
       "      <th>category</th>\n",
       "    </tr>\n",
       "  </thead>\n",
       "  <tbody>\n",
       "    <tr>\n",
       "      <th>0</th>\n",
       "      <td>3.42</td>\n",
       "      <td>15.0</td>\n",
       "      <td>4.9</td>\n",
       "      <td>Hobbies &gt; Model Trains &amp; Railway Sets &gt; Rail V...</td>\n",
       "    </tr>\n",
       "    <tr>\n",
       "      <th>1</th>\n",
       "      <td>16.99</td>\n",
       "      <td>2.0</td>\n",
       "      <td>4.5</td>\n",
       "      <td>Hobbies &gt; Model Trains &amp; Railway Sets &gt; Rail V...</td>\n",
       "    </tr>\n",
       "    <tr>\n",
       "      <th>2</th>\n",
       "      <td>9.99</td>\n",
       "      <td>17.0</td>\n",
       "      <td>3.9</td>\n",
       "      <td>Hobbies &gt; Model Trains &amp; Railway Sets &gt; Rail V...</td>\n",
       "    </tr>\n",
       "    <tr>\n",
       "      <th>3</th>\n",
       "      <td>39.99</td>\n",
       "      <td>1.0</td>\n",
       "      <td>5.0</td>\n",
       "      <td>Hobbies &gt; Model Trains &amp; Railway Sets &gt; Rail V...</td>\n",
       "    </tr>\n",
       "    <tr>\n",
       "      <th>4</th>\n",
       "      <td>32.19</td>\n",
       "      <td>3.0</td>\n",
       "      <td>4.7</td>\n",
       "      <td>Hobbies &gt; Model Trains &amp; Railway Sets &gt; Rail V...</td>\n",
       "    </tr>\n",
       "    <tr>\n",
       "      <th>...</th>\n",
       "      <td>...</td>\n",
       "      <td>...</td>\n",
       "      <td>...</td>\n",
       "      <td>...</td>\n",
       "    </tr>\n",
       "    <tr>\n",
       "      <th>7982</th>\n",
       "      <td>39.99</td>\n",
       "      <td>1.0</td>\n",
       "      <td>4.0</td>\n",
       "      <td>Characters &amp; Brands &gt; Star Wars &gt; Toys</td>\n",
       "    </tr>\n",
       "    <tr>\n",
       "      <th>7983</th>\n",
       "      <td>43.99</td>\n",
       "      <td>1.0</td>\n",
       "      <td>5.0</td>\n",
       "      <td>Novelty &amp; Special Use &gt; Novelty &gt; Accessories ...</td>\n",
       "    </tr>\n",
       "    <tr>\n",
       "      <th>7984</th>\n",
       "      <td>49.81</td>\n",
       "      <td>1.0</td>\n",
       "      <td>5.0</td>\n",
       "      <td>Hobbies &gt; Collectible Figures &amp; Memorabilia &gt; ...</td>\n",
       "    </tr>\n",
       "    <tr>\n",
       "      <th>7985</th>\n",
       "      <td>21.2</td>\n",
       "      <td>11.0</td>\n",
       "      <td>4.5</td>\n",
       "      <td>Characters &amp; Brands &gt; Star Wars &gt; Toys</td>\n",
       "    </tr>\n",
       "    <tr>\n",
       "      <th>7986</th>\n",
       "      <td>s</td>\n",
       "      <td>NaN</td>\n",
       "      <td>NaN</td>\n",
       "      <td>NaN</td>\n",
       "    </tr>\n",
       "  </tbody>\n",
       "</table>\n",
       "<p>7987 rows × 4 columns</p>\n",
       "</div>"
      ],
      "text/plain": [
       "     price (£)  number_of_reviews  rating  \\\n",
       "0         3.42               15.0     4.9   \n",
       "1        16.99                2.0     4.5   \n",
       "2         9.99               17.0     3.9   \n",
       "3        39.99                1.0     5.0   \n",
       "4        32.19                3.0     4.7   \n",
       "...        ...                ...     ...   \n",
       "7982     39.99                1.0     4.0   \n",
       "7983     43.99                1.0     5.0   \n",
       "7984     49.81                1.0     5.0   \n",
       "7985      21.2               11.0     4.5   \n",
       "7986         s                NaN     NaN   \n",
       "\n",
       "                                               category  \n",
       "0     Hobbies > Model Trains & Railway Sets > Rail V...  \n",
       "1     Hobbies > Model Trains & Railway Sets > Rail V...  \n",
       "2     Hobbies > Model Trains & Railway Sets > Rail V...  \n",
       "3     Hobbies > Model Trains & Railway Sets > Rail V...  \n",
       "4     Hobbies > Model Trains & Railway Sets > Rail V...  \n",
       "...                                                 ...  \n",
       "7982             Characters & Brands > Star Wars > Toys  \n",
       "7983  Novelty & Special Use > Novelty > Accessories ...  \n",
       "7984  Hobbies > Collectible Figures & Memorabilia > ...  \n",
       "7985             Characters & Brands > Star Wars > Toys  \n",
       "7986                                                NaN  \n",
       "\n",
       "[7987 rows x 4 columns]"
      ]
     },
     "execution_count": 12,
     "metadata": {},
     "output_type": "execute_result"
    }
   ],
   "source": [
    "dados = pd.read_excel(filename)\n",
    "dados"
   ]
  },
  {
   "cell_type": "markdown",
   "id": "5832caca",
   "metadata": {},
   "source": [
    "# 2. Limpar o DataSet"
   ]
  },
  {
   "cell_type": "code",
   "execution_count": 13,
   "id": "18c59a35",
   "metadata": {},
   "outputs": [
    {
     "name": "stdout",
     "output_type": "stream",
     "text": [
      "Temos as colunas Index(['price (£)', 'number_of_reviews', 'rating', 'category'], dtype='object')\n",
      "Agora temos as colunas Index(['price (£)', 'number_of_reviews', 'rating'], dtype='object')\n"
     ]
    }
   ],
   "source": [
    "print(f\"Temos as colunas {dados.columns}\")\n",
    "\n",
    "dados = dados.drop('category', 1)\n",
    "\n",
    "\n",
    "dados = dados[pd.to_numeric(dados['price (£)'], errors='coerce').notnull()]\n",
    "\n",
    "print(f\"Agora temos as colunas {dados.columns}\")"
   ]
  },
  {
   "cell_type": "markdown",
   "id": "2e4fee4c",
   "metadata": {},
   "source": [
    "# 3. Análise Exploratória"
   ]
  },
  {
   "cell_type": "code",
   "execution_count": 14,
   "id": "e0f83c5e",
   "metadata": {},
   "outputs": [
    {
     "name": "stdout",
     "output_type": "stream",
     "text": [
      "        price (£)  number_of_reviews       rating\n",
      "count     7986.00        7986.000000  7986.000000\n",
      "unique    2482.00                NaN          NaN\n",
      "top          9.99                NaN          NaN\n",
      "freq       173.00                NaN          NaN\n",
      "mean          NaN           9.371776     4.709154\n",
      "std           NaN          36.484311     0.372529\n",
      "min           NaN           1.000000     2.300000\n",
      "25%           NaN           1.000000     4.500000\n",
      "50%           NaN           2.000000     5.000000\n",
      "75%           NaN           6.000000     5.000000\n",
      "max           NaN        1399.000000     5.000000\n"
     ]
    }
   ],
   "source": [
    "print(dados.describe(include = 'all'))"
   ]
  },
  {
   "cell_type": "code",
   "execution_count": 15,
   "id": "22b47372",
   "metadata": {},
   "outputs": [
    {
     "data": {
      "image/png": "[encoded data removed]",
      "text/plain": [
       "<Figure size 432x288 with 1 Axes>"
      ]
     },
     "metadata": {
      "needs_background": "light"
     },
     "output_type": "display_data"
    },
    {
     "data": {
      "image/png": "[encoded data removed]",
      "text/plain": [
       "<Figure size 432x288 with 1 Axes>"
      ]
     },
     "metadata": {
      "needs_background": "light"
     },
     "output_type": "display_data"
    }
   ],
   "source": [
    "plt.subplot(1,1,1)\n",
    "plt.scatter(dados.rating,dados[\"price (£)\"], c='red', alpha=0.4)\n",
    "plt.title('Preço em Euros')\n",
    "plt.xlabel('Rating')\n",
    "plt.ylabel('Preço em euros')\n",
    "plt.show()\n",
    "\n",
    "plt.subplot(1,2,2)\n",
    "plt.scatter(dados.number_of_reviews, dados.rating, c='red', alpha=0.4)\n",
    "plt.title('Rating X Quantidade de Reviews')\n",
    "plt.xlabel('Numero de Reviews')\n",
    "plt.ylabel('Rating')\n",
    "\n",
    "plt.show()\n"
   ]
  }
 ],
 "metadata": {
  "kernelspec": {
   "display_name": "Python 3 (ipykernel)",
   "language": "python",
   "name": "python3"
  },
  "language_info": {
   "codemirror_mode": {
    "name": "ipython",
    "version": 3
   },
   "file_extension": ".py",
   "mimetype": "text/x-python",
   "name": "python",
   "nbconvert_exporter": "python",
   "pygments_lexer": "ipython3",
   "version": "3.8.5"
  }
 },
 "nbformat": 4,
 "nbformat_minor": 5
}
