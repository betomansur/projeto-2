{
 "cells": [
  {
   "cell_type": "markdown",
   "metadata": {},
   "source": [
    "# 1. Lendo bibliotecas"
   ]
  },
  {
   "cell_type": "code",
   "execution_count": null,
   "metadata": {},
   "outputs": [],
   "source": [
    "import numpy as np\n",
    "import pandas as pd\n",
    "import os\n",
    "\n",
    "# Regressão Linear\n",
    "from sklearn import datasets, linear_model\n",
    "import statsmodels.api as sm\n",
    "from sklearn.model_selection import train_test_split\n",
    "from sklearn.linear_model import LogisticRegression\n",
    "from sklearn.linear_model import LinearRegression\n",
    "\n",
    "\n",
    "import seaborn as sns\n",
    "%matplotlib inline\n",
    "import seaborn as sns\n",
    "from sklearn import metrics\n",
    "\n",
    "\n",
    "# Plots\n",
    "import matplotlib.pyplot as plt\n",
    "from mpl_toolkits.mplot3d import Axes3D\n",
    "from IPython.display import display"
   ]
  },
  {
   "cell_type": "markdown",
   "metadata": {},
   "source": [
    "# 2. Ler o DataSet"
   ]
  },
  {
   "cell_type": "code",
   "execution_count": null,
   "metadata": {},
   "outputs": [],
   "source": [
    "filename = 'dataset.xlsx'\n",
    "if not filename in os.listdir():\n",
    "    print(f'Não encontrei o arquivo {filename}')"
   ]
  },
  {
   "cell_type": "code",
   "execution_count": null,
   "metadata": {},
   "outputs": [],
   "source": [
    "dados = pd.read_excel(filename)\n",
    "print(f\"Temos as colunas {dados.columns}\")"
   ]
  },
  {
   "cell_type": "markdown",
   "id": "085aa7bb",
   "metadata": {},
   "source": [
    "# 3. Tratamento da coluna 'Category'\n",
    "A coluna category na prática é uma hierarquia de categorias que podem se misturar. Ex. A subcategoria celulares pode estar tanto dentro de comunicação quanto de tecnologia. Nesta etapa vamos separar a categoria em categoria, subcategoria e subsubcategoria."
   ]
  },
  {
   "cell_type": "code",
   "execution_count": null,
   "id": "98311a09",
   "metadata": {},
   "outputs": [],
   "source": [
    "# dados['parentcategory', 'subcategory', 'subsubcategory'] = dados['category'].str.split(' > ')\n",
    "dados['parentcategory'] = dados['category'].map(lambda category: category.split(' > ')[0])\n",
    "dados['subcategory'] = dados['category'].map(lambda category: category.split(' > ')[1])\n",
    "dados['subsubcategory'] = dados['category'].map(lambda category: category.split(' > ')[2] if 2 < len(category.split(' > ')) else \"None\")\n",
    "\n",
    "dados.head()"
   ]
  },
  {
   "cell_type": "markdown",
   "metadata": {},
   "source": [
    "# 4. Análise Exploratória\n",
    "O primeiro passo após ter o DataSet carregado é olhar os dados e tentar descobrir possíveis correlações. Para isso vamos plotar alguns gráficos:"
   ]
  },
  {
   "cell_type": "markdown",
   "id": "8c7bdbd0",
   "metadata": {},
   "source": [
    "**Primeiramente buscamos a utilizar os dados da funcao Describe para assim plotar os graficos!**"
   ]
  },
  {
   "cell_type": "code",
   "execution_count": null,
   "metadata": {},
   "outputs": [],
   "source": [
    "\n",
    "print(dados.describe(include = 'all'))"
   ]
  },
  {
   "cell_type": "code",
   "execution_count": null,
   "metadata": {},
   "outputs": [],
   "source": [
    "# Todos os gráficos possíveis\n",
    "sns.pairplot(dados,height = 5)\n"
   ]
  },
  {
   "cell_type": "markdown",
   "metadata": {},
   "source": [
    "**Gráficos:** Esses gráficos representam nossa análise exploratória, abaixo refizemos os gráficos que consideramos os mais importantes"
   ]
  },
  {
   "cell_type": "code",
   "execution_count": null,
   "metadata": {},
   "outputs": [],
   "source": [
    "\n",
    "plt.figure(figsize = (8,6))\n",
    "plt.scatter(dados.rating,dados[\"price (£)\"], c='red', alpha=0.4)\n",
    "plt.title('Rating X Preço')\n",
    "plt.xlabel('Rating')\n",
    "plt.ylabel('Preço em euros')\n",
    "plt.show()\n",
    "\n",
    "plt.figure(figsize = (8,6))\n",
    "plt.scatter(dados.number_of_reviews, dados.rating, c='red', alpha=0.4)\n",
    "plt.title('Quantidade de Reviews X Rating')\n",
    "plt.xlabel('Numero de Reviews')\n",
    "plt.ylabel('Rating')\n",
    "\n",
    "plt.show()\n",
    "\n",
    "plt.figure(figsize = (8,6))\n",
    "plt.scatter(dados.number_of_reviews, dados[\"price (£)\"], c='red', alpha=0.4)\n",
    "plt.title('Quantidade de Reviews X Preço')\n",
    "plt.xlabel('Numero de Reviews')\n",
    "plt.ylabel('Preço em Euros')\n",
    "\n",
    "plt.figure(figsize = (8,6))\n",
    "plt.hist(dados.rating, edgecolor = 'white', density = True, color = \"red\")\n",
    "plt.title('Avaliações')\n",
    "plt.xlabel('Nivel da avaliação')\n",
    "\n",
    "plt.show()\n",
    "\n",
    "\n"
   ]
  },
  {
   "cell_type": "markdown",
   "metadata": {},
   "source": [
    "## Observando os gráficos\n",
    "Para a análise dos produtos, nós vamos usar três principais características: preço, avaliação e número de avaliações; sendo review o target e as demais variáveis features.\n",
    "\n",
    "A partir dos gráficos acima formulamos a seguinte hipótese: **Quanto maior a avaliação, maior o preço e quanto maior número de reviews, menor o preço do produto**.\n",
    "Lógica por trás da decisão:\n",
    "1. Pessoas vão entrar para reclamar se o produto for ruim, mas não necessariamente vão elogiá-lo se for bom;\n",
    "2. Produtos com boas avaliações tendem a ter melhor qualidade, o que reflete em seu preço"
   ]
  },
  {
   "cell_type": "markdown",
   "id": "a8cf87e1",
   "metadata": {},
   "source": [
    "# Tentativa #1\n",
    "Neste passo vamos fazer uma regressão linear multivariada utilizando MMQ, levando em consideração a o preço em função da avaliação e número de reviews."
   ]
  },
  {
   "cell_type": "code",
   "execution_count": null,
   "metadata": {},
   "outputs": [],
   "source": [
    "def regress(Y,X):\n",
    "    '''\n",
    "    Y: coluna do DataFrame utilizada como variável resposta (TARGET)\n",
    "    X: coluna(s) do DataFrame utilizadas como variável(is) explicativas (FEATURES)\n",
    "    '''\n",
    "    X_cp = sm.add_constant(X)\n",
    "    model = sm.OLS(Y,X_cp)\n",
    "    results = model.fit()\n",
    "    \n",
    "    return results"
   ]
  },
  {
   "cell_type": "code",
   "execution_count": null,
   "metadata": {},
   "outputs": [],
   "source": [
    "# Target é o preço\n",
    "y = dados[['price (£)']]\n",
    "\n",
    "# Vamos usar o preço e número de reviews como features\n",
    "x = dados[['number_of_reviews', 'rating']]\n",
    "\n",
    "# Agora vamos fazer MMQ (OLS) com a função regress\n",
    "resultados = regress(y, x)\n",
    "resultados.summary()"
   ]
  },
  {
   "cell_type": "markdown",
   "id": "86109712",
   "metadata": {},
   "source": [
    "# Tentativa #2"
   ]
  },
  {
   "cell_type": "code",
   "execution_count": null,
   "metadata": {},
   "outputs": [],
   "source": [
    "X_cp = sm.add_constant(x)\n",
    "resultados.predict(X_cp)\n"
   ]
  },
  {
   "cell_type": "code",
   "execution_count": null,
   "metadata": {},
   "outputs": [],
   "source": [
    "plt.figure(figsize = (8,6))\n",
    "plt.scatter(dados.rating,resultados.predict(), c='blue', alpha=0.4)\n",
    "plt.title('Previsão do preço X Rating')\n",
    "plt.grid(True)\n",
    "plt.xlabel('Rating')\n",
    "plt.ylabel('Preço em Euros')\n",
    "\n",
    "plt.figure(figsize = (8,6))\n",
    "plt.grid(True)\n",
    "plt.scatter(dados.number_of_reviews,resultados.predict(), c='red', alpha=0.4)\n",
    "plt.xlabel('Number of Reviews')\n",
    "plt.ylabel('Preço em Libras')\n",
    "\n",
    "plt.show()"
   ]
  },
  {
   "cell_type": "markdown",
   "id": "dd3032ba",
   "metadata": {},
   "source": [
    "# Tentativa #3\n",
    "Queremos aumentar a exatidão do nosso modelo; para isso vamos tentar adicionar mais features para aumentar esse número. O problema é que o MMQ não funciona com variáveis categóricas, então vamos usar"
   ]
  },
  {
   "cell_type": "code",
   "execution_count": null,
   "id": "be682cd7",
   "metadata": {},
   "outputs": [],
   "source": [
    "# Target é o preço\n",
    "y_2 = dados[['price (£)']]\n",
    "\n",
    "# Vamos usar o preço e número de reviews como features\n",
    "x_2 = dados[['number_of_reviews', 'rating', 'parentcategory', 'subcategory', 'subsubcategory']]\n",
    "\n",
    "# Podemos separar a análise por categoria?\n",
    "\n",
    "# Agora vamos fazer MMQ (OLS) com a função regress\n",
    "resultados_2 = regress(y_2, x_2)\n",
    "resultados_2.summary()"
   ]
  },
  {
   "cell_type": "markdown",
   "id": "082bc2ce",
   "metadata": {},
   "source": [
    "# Tentativa #4"
   ]
  }
 ],
 "metadata": {
  "kernelspec": {
   "display_name": "Python 3",
   "language": "python",
   "name": "python3"
  },
  "language_info": {
   "codemirror_mode": {
    "name": "ipython",
    "version": 3
   },
   "file_extension": ".py",
   "mimetype": "text/x-python",
   "name": "python",
   "nbconvert_exporter": "python",
   "pygments_lexer": "ipython3",
   "version": "3.8.12"
  }
 },
 "nbformat": 4,
 "nbformat_minor": 5
}
